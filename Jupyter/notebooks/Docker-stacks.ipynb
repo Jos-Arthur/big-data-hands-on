{
 "cells": [
  {
   "cell_type": "markdown",
   "metadata": {},
   "source": [
    "# Docker stacks #"
   ]
  },
  {
   "cell_type": "markdown",
   "metadata": {},
   "source": [
    "L'accès au docker host doit être configuré au préalable via [le notebook DockerAccess](http://localhost:8888/tree/repos/big-data-hands-on/Jupyter/notebooks/DockerAccess.ipynb)\n"
   ]
  },
  {
   "cell_type": "markdown",
   "metadata": {},
   "source": [
    "Pour Windows ou MacOS :"
   ]
  },
  {
   "cell_type": "code",
   "execution_count": 2,
   "metadata": {},
   "outputs": [
    {
     "name": "stdout",
     "output_type": "stream",
     "text": [
      "env: DOCKER_HOST=tcp://host.docker.internal:2375\n"
     ]
    }
   ],
   "source": [
    "%env DOCKER_HOST=tcp://host.docker.internal:2375"
   ]
  },
  {
   "cell_type": "code",
   "execution_count": 6,
   "metadata": {},
   "outputs": [
    {
     "name": "stdout",
     "output_type": "stream",
     "text": [
      "CONTAINER ID        IMAGE                                     COMMAND                   CREATED             STATUS              PORTS                                                                                                                                                                                                                                                                                            NAMES\n",
      "bdb5e1894c57        harisekhon/hadoop                         \"/bin/sh -c \\\"/entryp…\"   5 days ago          Up 4 days           0.0.0.0:8020->8020/tcp, 0.0.0.0:8032->8032/tcp, 0.0.0.0:8088->8088/tcp, 0.0.0.0:9000->9000/tcp, 0.0.0.0:10020->10020/tcp, 0.0.0.0:19888->19888/tcp, 0.0.0.0:50010->50010/tcp, 0.0.0.0:50020->50020/tcp, 0.0.0.0:50070->50070/tcp, 0.0.0.0:50075->50075/tcp, 0.0.0.0:50090->50090/tcp, 8042/tcp   hdp\n",
      "99519f98d887        teivah/kafka:latest                       \"supervisord -n\"          3 weeks ago         Up About a minute   0.0.0.0:2181->2181/tcp, 0.0.0.0:9092->9092/tcp                                                                                                                                                                                                                                                   kafka\n",
      "862f15680303        jupyter/all-spark-notebook:87210526f381   \"tini -g -- start-no…\"    4 weeks ago         Up 4 days           0.0.0.0:4041->4041/tcp, 0.0.0.0:8888->8888/tcp                                                                                                                                                                                                                                                   jupyter\n"
     ]
    }
   ],
   "source": [
    "! docker ps"
   ]
  },
  {
   "cell_type": "markdown",
   "metadata": {},
   "source": [
    "## Traefik ##"
   ]
  },
  {
   "cell_type": "code",
   "execution_count": null,
   "metadata": {},
   "outputs": [],
   "source": [
    "! docker-compose -f ../docker/traefik.yml up"
   ]
  },
  {
   "cell_type": "markdown",
   "metadata": {},
   "source": [
    "## Kafka\n"
   ]
  },
  {
   "cell_type": "markdown",
   "metadata": {},
   "source": [
    "### Kafka"
   ]
  },
  {
   "cell_type": "code",
   "execution_count": 4,
   "metadata": {},
   "outputs": [
    {
     "name": "stdout",
     "output_type": "stream",
     "text": [
      "kafka\n"
     ]
    }
   ],
   "source": [
    "%%bash\n",
    "# docker start kafka\n",
    "docker-compose -f ../docker/kafka.yml up"
   ]
  },
  {
   "cell_type": "markdown",
   "metadata": {},
   "source": [
    "### Kafka Manager\n",
    "\n",
    "[Kafka manager](http://localhost:9000)"
   ]
  },
  {
   "cell_type": "code",
   "execution_count": null,
   "metadata": {},
   "outputs": [],
   "source": [
    "%%bash\n",
    "# docker start kafka-manager\n",
    "docker-compose -f ../docker/kafka-manager.yml up"
   ]
  },
  {
   "cell_type": "code",
   "execution_count": null,
   "metadata": {},
   "outputs": [],
   "source": []
  }
 ],
 "metadata": {
  "kernelspec": {
   "display_name": "Python 3",
   "language": "python",
   "name": "python3"
  },
  "language_info": {
   "codemirror_mode": {
    "name": "ipython",
    "version": 3
   },
   "file_extension": ".py",
   "mimetype": "text/x-python",
   "name": "python",
   "nbconvert_exporter": "python",
   "pygments_lexer": "ipython3",
   "version": "3.6.8"
  }
 },
 "nbformat": 4,
 "nbformat_minor": 2
}
