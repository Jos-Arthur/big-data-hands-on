{
 "cells": [
  {
   "cell_type": "markdown",
   "metadata": {},
   "source": [
    "# Spark Beer Analysis #\n",
    "Analyse de dataset de bières, avec Apache Spark.\n",
    "\n",
    "\n",
    "\n",
    "[Guide de styles BJCP](https://www.brassageamateur.com/wiki/index.php/Guide_de_styles_BJCP) (Beer Judge Certification Program ou \"Programme de certification de juge de bière\")\n",
    "\n",
    "[Dictionnaire Anglais-Français des termes brassicoles](https://www.brassageamateur.com/wiki/index.php/Dictionnaire_Anglais-Fran%C3%A7ais_des_termes_brassicoles)\n",
    "\n",
    "[Lexique francais/anglais](https://www.brassageamateur.com/wiki/index.php/Lexique_francais/anglais)\n",
    "\n",
    "\n",
    "Dataset:\n",
    "- [Recettes de bière](https://www.kaggle.com/jtrofe/beer-recipes/kernels) scraped from [Brewer's Friend](https://www.brewersfriend.com/)\n",
    "- [Critiques de bières](https://data.world/socialmediadata/beeradvocate)\n"
   ]
  },
  {
   "cell_type": "markdown",
   "metadata": {},
   "source": [
    "## TODO\n",
    "\n",
    "- [X] Charger le fichier des critiques\n",
    "- [ ] Faire correspondre sur un graphique les notes, avec le degré d'alcool et le style\n",
    "- [X] Créer les features\n",
    "- [ ] Déterminer le type d'algo nécessaire pour effectuer un apprentissage\n",
    "- [ ] Créer un model\n",
    "- [ ] Passer les recettes dans le model, et trouver la recette la plus prometteuse"
   ]
  },
  {
   "cell_type": "code",
   "execution_count": 1,
   "metadata": {},
   "outputs": [
    {
     "data": {
      "text/plain": [
       "spark = org.apache.spark.sql.SparkSession@5adf4cb5\n",
       "savePath = ./\n"
      ]
     },
     "metadata": {},
     "output_type": "display_data",
     "source": "user"
    },
    {
     "data": {
      "text/plain": [
       "./"
      ]
     },
     "execution_count": 1,
     "metadata": {},
     "output_type": "execute_result"
    }
   ],
   "source": [
    "val spark = SparkSession.builder.config(sc.getConf).getOrCreate\n",
    "\n",
    "// Configure checkpoint\n",
    "val savePath = \"./\"\n",
    "spark.sparkContext.setCheckpointDir(savePath)"
   ]
  },
  {
   "cell_type": "markdown",
   "metadata": {},
   "source": [
    "# Reviews"
   ]
  },
  {
   "cell_type": "code",
   "execution_count": 2,
   "metadata": {},
   "outputs": [
    {
     "name": "stdout",
     "output_type": "stream",
     "text": [
      "root\n",
      " |-- brewery_id: integer (nullable = true)\n",
      " |-- brewery_name: string (nullable = true)\n",
      " |-- review_time: integer (nullable = true)\n",
      " |-- review_overall: double (nullable = true)\n",
      " |-- review_aroma: double (nullable = true)\n",
      " |-- review_appearance: double (nullable = true)\n",
      " |-- review_profilename: string (nullable = true)\n",
      " |-- beer_style: string (nullable = true)\n",
      " |-- review_palate: double (nullable = true)\n",
      " |-- review_taste: double (nullable = true)\n",
      " |-- beer_name: string (nullable = true)\n",
      " |-- beer_abv: double (nullable = true)\n",
      " |-- beer_beerid: integer (nullable = true)\n",
      "\n"
     ]
    },
    {
     "data": {
      "text/plain": [
       "reviews = [brewery_id: int, brewery_name: string ... 11 more fields]\n"
      ]
     },
     "metadata": {},
     "output_type": "display_data",
     "source": "user"
    },
    {
     "data": {
      "text/plain": [
       "[brewery_id: int, brewery_name: string ... 11 more fields]"
      ]
     },
     "execution_count": 2,
     "metadata": {},
     "output_type": "execute_result"
    }
   ],
   "source": [
    "val reviews = spark.read\n",
    "    .format(\"csv\")\n",
    "    .option(\"header\",\"true\")\n",
    "    .option(\"delimiter\", \",\")\n",
    "    .option(\"inferSchema\", \"true\")\n",
    "    .load(\"./data/beer_reviews.csv\")\n",
    "\n",
    "reviews.printSchema()"
   ]
  },
  {
   "cell_type": "markdown",
   "metadata": {},
   "source": [
    "## Features"
   ]
  },
  {
   "cell_type": "code",
   "execution_count": 7,
   "metadata": {},
   "outputs": [
    {
     "data": {
      "text/plain": [
       "indexer = strIdx_db13a7ca55df\n",
       "encoder = oneHotEncoder_e725625576e6\n",
       "oneHotStylesPipeline = pipeline_c6747131259d\n",
       "withOneHotStyle = [brewery_id: int, brewery_name: string ... 13 more fields]\n",
       "assembler = vecAssembler_25633ee62630\n",
       "scaler = stdScal_07e71bc9999e\n",
       "featurizePipeline = pipeline_2a6826e55fe5\n",
       "featurizedReviews = [brewery_id: int, brewery_...\n"
      ]
     },
     "metadata": {},
     "output_type": "display_data",
     "source": "user"
    },
    {
     "data": {
      "text/plain": [
       "lastException: Throwable = null\n"
      ]
     },
     "metadata": {},
     "output_type": "display_data",
     "source": "user"
    },
    {
     "data": {
      "text/plain": [
       "[brewery_id: int, brewery_..."
      ]
     },
     "execution_count": 7,
     "metadata": {},
     "output_type": "execute_result"
    }
   ],
   "source": [
    "import org.apache.spark.ml.Pipeline\n",
    "import org.apache.spark.ml.feature.{OneHotEncoderEstimator, StandardScaler, StringIndexer, VectorAssembler}\n",
    "\n",
    "val indexer = new StringIndexer().setInputCol(\"beer_style\").setOutputCol(\"styleIndex\")\n",
    "val encoder = new OneHotEncoderEstimator()\n",
    "  .setInputCols(Array(indexer.getOutputCol))\n",
    "  .setOutputCols(Array(\"styleVec\"))\n",
    "\n",
    "val oneHotStylesPipeline = new Pipeline().setStages(Array(indexer, encoder))\n",
    "val withOneHotStyle = oneHotStylesPipeline.fit(reviews).transform(reviews)\n",
    " \n",
    "val assembler = new VectorAssembler()\n",
    "    .setInputCols(Array(\"beer_abv\", \"styleVec\"))\n",
    "    .setOutputCol(\"features\")\n",
    "\n",
    "val scaler = new StandardScaler()\n",
    "    .setInputCol(\"features\")\n",
    "    .setOutputCol(\"scaledFeatures\")\n",
    "    .setWithStd(true)\n",
    "    .setWithMean(false)\n",
    "\n",
    "val featurizePipeline = new Pipeline().setStages(Array(assembler))//, scaler))\n",
    "\n",
    "val featurizedReviews = featurizePipeline.fit(withOneHotStyle).transform(withOneHotStyle)"
   ]
  },
  {
   "cell_type": "code",
   "execution_count": null,
   "metadata": {},
   "outputs": [],
   "source": []
  },
  {
   "cell_type": "code",
   "execution_count": null,
   "metadata": {},
   "outputs": [],
   "source": []
  },
  {
   "cell_type": "code",
   "execution_count": 5,
   "metadata": {},
   "outputs": [
    {
     "data": {
      "text/html": [
       "<table><tr><th>brewery_id</th><th>brewery_name</th><th>review_time</th><th>review_overall</th><th>review_aroma</th><th>review_appearance</th><th>review_profilename</th><th>beer_style</th><th>review_palate</th><th>review_taste</th><th>beer_name</th><th>beer_abv</th><th>beer_beerid</th><th>styleIndex</th><th>styleVec</th><th>features</th></tr><tr><td>10325</td><td>Vecchio Birraio</td><td>1234817823</td><td>1.5</td><td>2.0</td><td>2.5</td><td>stcules</td><td>Hefeweizen</td><td>1.5</td><td>1.5</td><td>Sausa Weizen</td><td>5.0</td><td>47986</td><td>15.0</td><td>(103,[15],[1.0])</td><td>(104,[0,16],[5.0,1.0])</td></tr><tr><td>10325</td><td>Vecchio Birraio</td><td>1235915097</td><td>3.0</td><td>2.5</td><td>3.0</td><td>stcules</td><td>English Strong Ale</td><td>3.0</td><td>3.0</td><td>Red Moon</td><td>6.2</td><td>48213</td><td>73.0</td><td>(103,[73],[1.0])</td><td>(104,[0,74],[6.2,1.0])</td></tr><tr><td>10325</td><td>Vecchio Birraio</td><td>1235916604</td><td>3.0</td><td>2.5</td><td>3.0</td><td>stcules</td><td>Foreign / Export Stout</td><td>3.0</td><td>3.0</td><td>Black Horse Black Beer</td><td>6.5</td><td>48215</td><td>69.0</td><td>(103,[69],[1.0])</td><td>(104,[0,70],[6.5,1.0])</td></tr><tr><td>10325</td><td>Vecchio Birraio</td><td>1234725145</td><td>3.0</td><td>3.0</td><td>3.5</td><td>stcules</td><td>German Pilsener</td><td>2.5</td><td>3.0</td><td>Sausa Pils</td><td>5.0</td><td>47969</td><td>22.0</td><td>(103,[22],[1.0])</td><td>(104,[0,23],[5.0,1.0])</td></tr><tr><td>1075</td><td>Caldera Brewing Company</td><td>1293735206</td><td>4.0</td><td>4.5</td><td>4.0</td><td>johnmichaelsen</td><td>American Double / Imperial IPA</td><td>4.0</td><td>4.5</td><td>Cauldron DIPA</td><td>7.7</td><td>64883</td><td>1.0</td><td>(103,[1],[1.0])</td><td>(104,[0,2],[7.7,1.0])</td></tr><tr><td>1075</td><td>Caldera Brewing Company</td><td>1325524659</td><td>3.0</td><td>3.5</td><td>3.5</td><td>oline73</td><td>Herbed / Spiced Beer</td><td>3.0</td><td>3.5</td><td>Caldera Ginger Beer</td><td>4.7</td><td>52159</td><td>50.0</td><td>(103,[50],[1.0])</td><td>(104,[0,51],[4.7,1.0])</td></tr><tr><td>1075</td><td>Caldera Brewing Company</td><td>1318991115</td><td>3.5</td><td>3.5</td><td>3.5</td><td>Reidrover</td><td>Herbed / Spiced Beer</td><td>4.0</td><td>4.0</td><td>Caldera Ginger Beer</td><td>4.7</td><td>52159</td><td>50.0</td><td>(103,[50],[1.0])</td><td>(104,[0,51],[4.7,1.0])</td></tr><tr><td>1075</td><td>Caldera Brewing Company</td><td>1306276018</td><td>3.0</td><td>2.5</td><td>3.5</td><td>alpinebryant</td><td>Herbed / Spiced Beer</td><td>2.0</td><td>3.5</td><td>Caldera Ginger Beer</td><td>4.7</td><td>52159</td><td>50.0</td><td>(103,[50],[1.0])</td><td>(104,[0,51],[4.7,1.0])</td></tr><tr><td>1075</td><td>Caldera Brewing Company</td><td>1290454503</td><td>4.0</td><td>3.0</td><td>3.5</td><td>LordAdmNelson</td><td>Herbed / Spiced Beer</td><td>3.5</td><td>4.0</td><td>Caldera Ginger Beer</td><td>4.7</td><td>52159</td><td>50.0</td><td>(103,[50],[1.0])</td><td>(104,[0,51],[4.7,1.0])</td></tr><tr><td>1075</td><td>Caldera Brewing Company</td><td>1285632924</td><td>4.5</td><td>3.5</td><td>5.0</td><td>augustgarage</td><td>Herbed / Spiced Beer</td><td>4.0</td><td>4.0</td><td>Caldera Ginger Beer</td><td>4.7</td><td>52159</td><td>50.0</td><td>(103,[50],[1.0])</td><td>(104,[0,51],[4.7,1.0])</td></tr></table>"
      ]
     },
     "execution_count": 5,
     "metadata": {},
     "output_type": "execute_result"
    }
   ],
   "source": [
    "%%dataframe\n",
    "featurizedReviews"
   ]
  },
  {
   "cell_type": "code",
   "execution_count": null,
   "metadata": {},
   "outputs": [],
   "source": []
  }
 ],
 "metadata": {
  "kernelspec": {
   "display_name": "Apache Toree - Scala",
   "language": "scala",
   "name": "apache_toree_scala"
  },
  "language_info": {
   "name": ""
  }
 },
 "nbformat": 4,
 "nbformat_minor": 2
}
