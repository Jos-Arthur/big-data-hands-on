{
 "cells": [
  {
   "cell_type": "markdown",
   "metadata": {},
   "source": [
    "# Spark Beer Analysis #\n",
    "Analyse de dataset de bières, avec Apache Spark.\n",
    "\n",
    "\n",
    "\n",
    "[Guide de styles BJCP](https://www.brassageamateur.com/wiki/index.php/Guide_de_styles_BJCP) (Beer Judge Certification Program ou \"Programme de certification de juge de bière\")\n",
    "\n",
    "[Dictionnaire Anglais-Français des termes brassicoles](https://www.brassageamateur.com/wiki/index.php/Dictionnaire_Anglais-Fran%C3%A7ais_des_termes_brassicoles)\n",
    "\n",
    "[Lexique francais/anglais](https://www.brassageamateur.com/wiki/index.php/Lexique_francais/anglais)\n",
    "\n",
    "\n",
    "Dataset:\n",
    "- [Recettes de bière](https://www.kaggle.com/jtrofe/beer-recipes/kernels) scraped from [Brewer's Friend](https://www.brewersfriend.com/)\n",
    "- [Critiques de bières](https://data.world/socialmediadata/beeradvocate)\n"
   ]
  },
  {
   "cell_type": "markdown",
   "metadata": {},
   "source": [
    "## TODO\n",
    "\n",
    "- [X] Charger le fichier des critiques et trouver les style de bières les plus appréciés\n",
    "- [ ] Chercher parmis les résultats des corrélations entre note et degré d'alcool et amertume\n",
    "- [ ] Charger le fichier de recettes et filtrer sur les styles trouvés précédement\n",
    "- [ ] puis grouper par ABV / IBU\n"
   ]
  },
  {
   "cell_type": "code",
   "execution_count": 1,
   "metadata": {},
   "outputs": [
    {
     "data": {
      "text/plain": [
       "spark = org.apache.spark.sql.SparkSession@426a0dd\n"
      ]
     },
     "metadata": {},
     "output_type": "display_data",
     "source": "user"
    },
    {
     "data": {
      "text/plain": [
       "org.apache.spark.sql.SparkSession@426a0dd"
      ]
     },
     "execution_count": 1,
     "metadata": {},
     "output_type": "execute_result"
    }
   ],
   "source": [
    "val spark = SparkSession.builder.config(sc.getConf).getOrCreate"
   ]
  },
  {
   "cell_type": "markdown",
   "metadata": {},
   "source": [
    "## Reviews"
   ]
  },
  {
   "cell_type": "code",
   "execution_count": 2,
   "metadata": {},
   "outputs": [
    {
     "name": "stdout",
     "output_type": "stream",
     "text": [
      "root\n",
      " |-- brewery_id: integer (nullable = true)\n",
      " |-- brewery_name: string (nullable = true)\n",
      " |-- review_time: integer (nullable = true)\n",
      " |-- review_overall: double (nullable = true)\n",
      " |-- review_aroma: double (nullable = true)\n",
      " |-- review_appearance: double (nullable = true)\n",
      " |-- review_profilename: string (nullable = true)\n",
      " |-- beer_style: string (nullable = true)\n",
      " |-- review_palate: double (nullable = true)\n",
      " |-- review_taste: double (nullable = true)\n",
      " |-- beer_name: string (nullable = true)\n",
      " |-- beer_abv: double (nullable = true)\n",
      " |-- beer_beerid: integer (nullable = true)\n",
      "\n"
     ]
    },
    {
     "data": {
      "text/plain": [
       "reviews = [brewery_id: int, brewery_name: string ... 11 more fields]\n"
      ]
     },
     "metadata": {},
     "output_type": "display_data",
     "source": "user"
    },
    {
     "data": {
      "text/plain": [
       "[brewery_id: int, brewery_name: string ... 11 more fields]"
      ]
     },
     "execution_count": 2,
     "metadata": {},
     "output_type": "execute_result"
    }
   ],
   "source": [
    "val reviews = spark.read\n",
    "    .format(\"csv\")\n",
    "    .option(\"header\",\"true\")\n",
    "    .option(\"delimiter\", \",\")\n",
    "    .option(\"inferSchema\", \"true\")\n",
    "    .load(\"/home/jovyan/work/beer_reviews.csv\")\n",
    "\n",
    "reviews.printSchema()"
   ]
  },
  {
   "cell_type": "code",
   "execution_count": 4,
   "metadata": {},
   "outputs": [
    {
     "name": "stdout",
     "output_type": "stream",
     "text": [
      "+-----------------------------------+-----+\n",
      "|beer_style                         |count|\n",
      "+-----------------------------------+-----+\n",
      "|American Double / Imperial IPA     |14327|\n",
      "|American Double / Imperial Stout   |11698|\n",
      "|Russian Imperial Stout             |10329|\n",
      "|American IPA                       |10017|\n",
      "|Quadrupel (Quad)                   |4279 |\n",
      "|Belgian Strong Dark Ale            |4170 |\n",
      "|American Strong Ale                |4064 |\n",
      "|American Porter                    |3593 |\n",
      "|American Wild Ale                  |3562 |\n",
      "|American Barleywine                |3264 |\n",
      "|Tripel                             |3039 |\n",
      "|Belgian Strong Pale Ale            |2829 |\n",
      "|Saison / Farmhouse Ale             |2499 |\n",
      "|American Pale Ale (APA)            |2360 |\n",
      "|Doppelbock                         |2064 |\n",
      "|Dubbel                             |1982 |\n",
      "|Hefeweizen                         |1922 |\n",
      "|American Stout                     |1909 |\n",
      "|English Barleywine                 |1819 |\n",
      "|Old Ale                            |1786 |\n",
      "|American Amber / Red Ale           |1725 |\n",
      "|Lambic - Fruit                     |1402 |\n",
      "|Oatmeal Stout                      |1380 |\n",
      "|Fruit / Vegetable Beer             |1292 |\n",
      "|American Brown Ale                 |1285 |\n",
      "|Scotch Ale / Wee Heavy             |1236 |\n",
      "|Weizenbock                         |1223 |\n",
      "|Baltic Porter                      |1213 |\n",
      "|Gueuze                             |1174 |\n",
      "|Belgian IPA                        |1045 |\n",
      "|Belgian Pale Ale                   |1029 |\n",
      "|Flanders Red Ale                   |994  |\n",
      "|Witbier                            |988  |\n",
      "|Rye Beer                           |958  |\n",
      "|Milk / Sweet Stout                 |869  |\n",
      "|American Black Ale                 |862  |\n",
      "|English Porter                     |750  |\n",
      "|Winter Warmer                      |716  |\n",
      "|Pumpkin Ale                        |657  |\n",
      "|American Pale Wheat Ale            |624  |\n",
      "|German Pilsener                    |604  |\n",
      "|Eisbock                            |513  |\n",
      "|Extra Special / Strong Bitter (ESB)|495  |\n",
      "|Flanders Oud Bruin                 |479  |\n",
      "|Märzen / Oktoberfest               |432  |\n",
      "|Bière de Garde                     |422  |\n",
      "|English Brown Ale                  |412  |\n",
      "|American Double / Imperial Pilsner |374  |\n",
      "|Foreign / Export Stout             |367  |\n",
      "|Dunkelweizen                       |365  |\n",
      "|English India Pale Ale (IPA)       |360  |\n",
      "|Irish Dry Stout                    |359  |\n",
      "|English Pale Ale                   |342  |\n",
      "|Altbier                            |339  |\n",
      "|Wheatwine                          |331  |\n",
      "|Czech Pilsener                     |304  |\n",
      "|Maibock / Helles Bock              |277  |\n",
      "|Rauchbier                          |270  |\n",
      "|Schwarzbier                        |238  |\n",
      "|Bock                               |235  |\n",
      "|Herbed / Spiced Beer               |234  |\n",
      "|English Strong Ale                 |220  |\n",
      "|Munich Helles Lager                |208  |\n",
      "|Scottish Ale                       |199  |\n",
      "|Vienna Lager                       |194  |\n",
      "|Belgian Dark Ale                   |189  |\n",
      "|Lambic - Unblended                 |186  |\n",
      "|Berliner Weissbier                 |176  |\n",
      "|English Bitter                     |173  |\n",
      "|Dortmunder / Export Lager          |139  |\n",
      "|Irish Red Ale                      |133  |\n",
      "|Kölsch                             |133  |\n",
      "|Munich Dunkel Lager                |126  |\n",
      "|Smoked Beer                        |123  |\n",
      "|American Amber / Red Lager         |113  |\n",
      "|Bière de Champagne / Bière Brut    |109  |\n",
      "|American Blonde Ale                |108  |\n",
      "|Keller Bier / Zwickel Bier         |100  |\n",
      "|California Common / Steam Beer     |95   |\n",
      "|Cream Ale                          |91   |\n",
      "|American Adjunct Lager             |86   |\n",
      "|Euro Pale Lager                    |77   |\n",
      "|American Pale Lager                |72   |\n",
      "|Scottish Gruit / Ancient Herbed Ale|69   |\n",
      "|Euro Dark Lager                    |63   |\n",
      "|English Stout                      |61   |\n",
      "|Chile Beer                         |55   |\n",
      "|Kristalweizen                      |48   |\n",
      "|Sahti                              |47   |\n",
      "|Braggot                            |46   |\n",
      "|Light Lager                        |46   |\n",
      "|English Dark Mild Ale              |37   |\n",
      "|Gose                               |32   |\n",
      "|Roggenbier                         |24   |\n",
      "|American Dark Wheat Ale            |22   |\n",
      "|Black & Tan                        |21   |\n",
      "|Faro                               |20   |\n",
      "|American Malt Liquor               |13   |\n",
      "|Euro Strong Lager                  |12   |\n",
      "|Low Alcohol Beer                   |10   |\n",
      "|English Pale Mild Ale              |10   |\n",
      "|Japanese Rice Lager                |6    |\n",
      "|Kvass                              |4    |\n",
      "|Happoshu                           |1    |\n",
      "+-----------------------------------+-----+\n",
      "\n"
     ]
    },
    {
     "data": {
      "text/plain": [
       "bestReviewBeerStyles = [beer_style: string, count: bigint]\n"
      ]
     },
     "metadata": {},
     "output_type": "display_data",
     "source": "user"
    },
    {
     "data": {
      "text/plain": [
       "[beer_style: string, count: bigint]"
      ]
     },
     "execution_count": 4,
     "metadata": {},
     "output_type": "execute_result"
    }
   ],
   "source": [
    "val bestReviewBeerStyles = reviews\n",
    "    .filter($\"review_taste\" > 4)\n",
    "    .filter($\"review_palate\" > 4)\n",
    "    .filter($\"review_aroma\" > 4)\n",
    "    .filter($\"review_overall\" > 3.5)\n",
    "    .groupBy(\"beer_style\")\n",
    "    .count().sort($\"count\".desc)\n",
    "\n",
    "bestReviewBeerStyles.show(bestReviewBeerStyles.count().toInt, false) // false, not truncate column name\n",
    "//reviews.show()"
   ]
  },
  {
   "cell_type": "code",
   "execution_count": 5,
   "metadata": {},
   "outputs": [
    {
     "data": {
      "text/html": [
       "<table><tr><th>beer_style</th><th>count</th></tr><tr><td>American Double / Imperial IPA</td><td>14327</td></tr><tr><td>American Double / Imperial Stout</td><td>11698</td></tr><tr><td>Russian Imperial Stout</td><td>10329</td></tr><tr><td>American IPA</td><td>10017</td></tr><tr><td>Quadrupel (Quad)</td><td>4279</td></tr><tr><td>Belgian Strong Dark Ale</td><td>4170</td></tr><tr><td>American Strong Ale</td><td>4064</td></tr><tr><td>American Porter</td><td>3593</td></tr><tr><td>American Wild Ale</td><td>3562</td></tr><tr><td>American Barleywine</td><td>3264</td></tr></table>"
      ]
     },
     "execution_count": 5,
     "metadata": {},
     "output_type": "execute_result"
    }
   ],
   "source": [
    "%%dataframe\n",
    "bestReviewBeerStyles"
   ]
  },
  {
   "cell_type": "markdown",
   "metadata": {},
   "source": [
    "## Recipies"
   ]
  },
  {
   "cell_type": "markdown",
   "metadata": {},
   "source": [
    "### Styles"
   ]
  },
  {
   "cell_type": "code",
   "execution_count": 6,
   "metadata": {},
   "outputs": [
    {
     "name": "stdout",
     "output_type": "stream",
     "text": [
      "root\n",
      " |-- Style: string (nullable = true)\n",
      " |-- StyleID: integer (nullable = true)\n",
      "\n"
     ]
    },
    {
     "data": {
      "text/plain": [
       "styles = [Style: string, StyleID: int]\n"
      ]
     },
     "metadata": {},
     "output_type": "display_data",
     "source": "user"
    },
    {
     "data": {
      "text/plain": [
       "[Style: string, StyleID: int]"
      ]
     },
     "execution_count": 6,
     "metadata": {},
     "output_type": "execute_result"
    }
   ],
   "source": [
    "val styles = spark.read\n",
    "    .format(\"csv\")\n",
    "    .option(\"header\",\"true\")\n",
    "    .option(\"delimiter\", \",\")\n",
    "    .option(\"inferSchema\", \"true\")\n",
    "    .load(\"/home/jovyan/work/styleData.csv\")\n",
    "\n",
    "styles.printSchema()"
   ]
  },
  {
   "cell_type": "code",
   "execution_count": 7,
   "metadata": {},
   "outputs": [
    {
     "data": {
      "text/html": [
       "<table><tr><th>Style</th><th>StyleID</th></tr><tr><td>Altbier</td><td>1</td></tr><tr><td>Alternative Grain Beer</td><td>2</td></tr><tr><td>Alternative Sugar Beer</td><td>3</td></tr><tr><td>American Amber Ale</td><td>4</td></tr><tr><td>American Barleywine</td><td>5</td></tr><tr><td>American Brown Ale</td><td>6</td></tr><tr><td>American IPA</td><td>7</td></tr><tr><td>American Lager</td><td>8</td></tr><tr><td>American Light Lager</td><td>9</td></tr><tr><td>American Pale Ale</td><td>10</td></tr></table>"
      ]
     },
     "execution_count": 7,
     "metadata": {},
     "output_type": "execute_result"
    }
   ],
   "source": [
    "%%dataframe\n",
    "styles"
   ]
  },
  {
   "cell_type": "code",
   "execution_count": 12,
   "metadata": {},
   "outputs": [
    {
     "name": "stdout",
     "output_type": "stream",
     "text": [
      "+-------------------+-------+\n",
      "|              Style|StyleID|\n",
      "+-------------------+-------+\n",
      "|            Altbier|      1|\n",
      "|American Barleywine|      5|\n",
      "| American Brown Ale|      6|\n",
      "|       American IPA|      7|\n",
      "|    American Porter|     11|\n",
      "|     American Stout|     12|\n",
      "|American Strong Ale|     13|\n",
      "|      Baltic Porter|     19|\n",
      "|   Belgian Pale Ale|     24|\n",
      "|            Braggot|     32|\n",
      "|          Cream Ale|     45|\n",
      "|         Doppelbock|     54|\n",
      "|       Dunkelweizen|     59|\n",
      "|            Eisbock|     62|\n",
      "| English Barleywine|     63|\n",
      "|     English Porter|     66|\n",
      "|   Flanders Red Ale|     71|\n",
      "|               Gose|     82|\n",
      "|             Gueuze|     83|\n",
      "|      Irish Red Ale|     92|\n",
      "+-------------------+-------+\n",
      "only showing top 20 rows\n",
      "\n"
     ]
    },
    {
     "data": {
      "text/plain": [
       "bestStyles = WrappedArray(American Double / Imperial IPA, American Double / Imperial Stout, Russian Imperial Stout, American IPA, Quadrupel (Quad), Belgian Strong Dark Ale, American Strong Ale, American Porter, American Wild Ale, American Barleywine, Tripel, Belgian Strong Pale Ale, Saison / Farmhouse Ale, American Pale Ale (APA), Doppelbock, Dubbel, Hefeweizen, American Stout, English Barleywine, Old Ale, American Amber / Red Ale, Lambic - Fruit, Oatmeal Stout, Fruit / Vegetable Beer, American Brown Ale, Scotch Ale / Wee Heavy, Weizenbock, Baltic Porter, Gueuze, Belgian IPA, Belgian Pale Ale, Flanders Red Ale, Witbier, Rye Beer, Milk / Sweet Stout, American Black Ale, English Porter, Winter Warmer, Pumpkin Ale, American Pale Wheat Ale, German Pilsener, Eisbock, Extra Speci...\n"
      ]
     },
     "metadata": {},
     "output_type": "display_data",
     "source": "user"
    },
    {
     "data": {
      "text/plain": [
       "WrappedArray(American Double / Imperial IPA, American Double / Imperial Stout, Russian Imperial Stout, American IPA, Quadrupel (Quad), Belgian Strong Dark Ale, American Strong Ale, American Porter, American Wild Ale, American Barleywine, Tripel, Belgian Strong Pale Ale, Saison / Farmhouse Ale, American Pale Ale (APA), Doppelbock, Dubbel, Hefeweizen, American Stout, English Barleywine, Old Ale, American Amber / Red Ale, Lambic - Fruit, Oatmeal Stout, Fruit / Vegetable Beer, American Brown Ale, Scotch Ale / Wee Heavy, Weizenbock, Baltic Porter, Gueuze, Belgian IPA, Belgian Pale Ale, Flanders Red Ale, Witbier, Rye Beer, Milk / Sweet Stout, American Black Ale, English Porter, Winter Warmer, Pumpkin Ale, American Pale Wheat Ale, German Pilsener, Eisbock, Extra Speci..."
      ]
     },
     "execution_count": 12,
     "metadata": {},
     "output_type": "execute_result"
    }
   ],
   "source": [
    "//val bestStyles = bestReviewBeerStyles.select(\"beer_style\").map(_.getString(0)).collect.toSeq\n",
    "val bestStyles = bestReviewBeerStyles.select(\"beer_style\").as[String].collect.toSeq\n",
    "styles.filter($\"Style\" isin (bestStyles: _*)).show"
   ]
  },
  {
   "cell_type": "markdown",
   "metadata": {},
   "source": [
    "### Recipe"
   ]
  },
  {
   "cell_type": "code",
   "execution_count": 15,
   "metadata": {},
   "outputs": [
    {
     "name": "stdout",
     "output_type": "stream",
     "text": [
      "root\n",
      " |-- BeerID: integer (nullable = true)\n",
      " |-- Name: string (nullable = true)\n",
      " |-- URL: string (nullable = true)\n",
      " |-- Style: string (nullable = true)\n",
      " |-- StyleID: integer (nullable = true)\n",
      " |-- Size(L): double (nullable = true)\n",
      " |-- OG: double (nullable = true)\n",
      " |-- FG: double (nullable = true)\n",
      " |-- ABV: double (nullable = true)\n",
      " |-- IBU: double (nullable = true)\n",
      " |-- Color: double (nullable = true)\n",
      " |-- BoilSize: double (nullable = true)\n",
      " |-- BoilTime: integer (nullable = true)\n",
      " |-- BoilGravity: string (nullable = true)\n",
      " |-- Efficiency: double (nullable = true)\n",
      " |-- MashThickness: string (nullable = true)\n",
      " |-- SugarScale: string (nullable = true)\n",
      " |-- BrewMethod: string (nullable = true)\n",
      " |-- PitchRate: string (nullable = true)\n",
      " |-- PrimaryTemp: string (nullable = true)\n",
      " |-- PrimingMethod: string (nullable = true)\n",
      " |-- PrimingAmount: string (nullable = true)\n",
      " |-- UserId: integer (nullable = true)\n",
      "\n"
     ]
    },
    {
     "data": {
      "text/plain": [
       "recipes = [BeerID: int, Name: string ... 21 more fields]\n"
      ]
     },
     "metadata": {},
     "output_type": "display_data",
     "source": "user"
    },
    {
     "data": {
      "text/plain": [
       "[BeerID: int, Name: string ... 21 more fields]"
      ]
     },
     "execution_count": 15,
     "metadata": {},
     "output_type": "execute_result"
    }
   ],
   "source": [
    "val recipes = spark.read\n",
    "    .format(\"csv\")\n",
    "    .option(\"header\",\"true\")\n",
    "    .option(\"delimiter\", \",\")\n",
    "    .option(\"inferSchema\", \"true\")\n",
    "    .load(\"/home/jovyan/work/recipeData.csv\")\n",
    "\n",
    "recipes.printSchema"
   ]
  },
  {
   "cell_type": "code",
   "execution_count": null,
   "metadata": {},
   "outputs": [],
   "source": [
    "val stylesIds = styles.select(\"StyleID\").as[Int].collect.toSeq\n",
    "recipie.filter($\"StyleID\" isin (stylesIds: _*))"
   ]
  },
  {
   "cell_type": "code",
   "execution_count": null,
   "metadata": {},
   "outputs": [],
   "source": []
  },
  {
   "cell_type": "code",
   "execution_count": null,
   "metadata": {},
   "outputs": [],
   "source": []
  },
  {
   "cell_type": "code",
   "execution_count": null,
   "metadata": {},
   "outputs": [],
   "source": []
  }
 ],
 "metadata": {
  "kernelspec": {
   "display_name": "Apache Toree - Scala",
   "language": "scala",
   "name": "apache_toree_scala"
  },
  "language_info": {
   "codemirror_mode": "text/x-scala",
   "file_extension": ".scala",
   "mimetype": "text/x-scala",
   "name": "scala",
   "pygments_lexer": "scala",
   "version": "2.11.12"
  }
 },
 "nbformat": 4,
 "nbformat_minor": 2
}
