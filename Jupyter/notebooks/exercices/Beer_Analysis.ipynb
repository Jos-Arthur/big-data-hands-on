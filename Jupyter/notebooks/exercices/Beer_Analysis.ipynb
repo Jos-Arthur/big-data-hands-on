{
 "cells": [
  {
   "cell_type": "markdown",
   "metadata": {},
   "source": [
    "# Spark Beer Analysis #\n",
    "Analyse de dataset de bières, avec Apache Spark.\n",
    "\n",
    "\n",
    "\n",
    "[Guide de styles BJCP](https://www.brassageamateur.com/wiki/index.php/Guide_de_styles_BJCP) (Beer Judge Certification Program ou \"Programme de certification de juge de bière\")\n",
    "\n",
    "[Dictionnaire Anglais-Français des termes brassicoles](https://www.brassageamateur.com/wiki/index.php/Dictionnaire_Anglais-Fran%C3%A7ais_des_termes_brassicoles)\n",
    "\n",
    "[Lexique francais/anglais](https://www.brassageamateur.com/wiki/index.php/Lexique_francais/anglais)\n",
    "\n",
    "\n",
    "Dataset:\n",
    "- [Recettes de bière](https://www.kaggle.com/jtrofe/beer-recipes/kernels) scraped from [Brewer's Friend](https://www.brewersfriend.com/)\n",
    "- [Critiques de bières](https://data.world/socialmediadata/beeradvocate)\n"
   ]
  },
  {
   "cell_type": "markdown",
   "metadata": {},
   "source": [
    "## TODO\n",
    "\n",
    "- [X] Charger le fichier des critiques et trouver les style de bières les plus appréciés\n",
    "- [ ] Chercher parmis les résultats des corrélations entre note et degré d'alcool et amertume\n",
    "- [ ] Charger le fichier de recettes et filtrer sur les styles trouvés précédement\n",
    "- [ ] puis grouper par ABV / IBU\n"
   ]
  },
  {
   "cell_type": "code",
   "execution_count": 1,
   "metadata": {},
   "outputs": [
    {
     "data": {
      "text/plain": [
       "spark = org.apache.spark.sql.SparkSession@426a0dd\n"
      ]
     },
     "metadata": {},
     "output_type": "display_data",
     "source": "user"
    },
    {
     "data": {
      "text/plain": [
       "org.apache.spark.sql.SparkSession@426a0dd"
      ]
     },
     "execution_count": 1,
     "metadata": {},
     "output_type": "execute_result"
    }
   ],
   "source": [
    "val spark = SparkSession.builder.config(sc.getConf).getOrCreate"
   ]
  },
  {
   "cell_type": "markdown",
   "metadata": {},
   "source": [
    "## Reviews"
   ]
  },
  {
   "cell_type": "code",
   "execution_count": 4,
   "metadata": {},
   "outputs": [
    {
     "name": "stdout",
     "output_type": "stream",
     "text": [
      "root\n",
      " |-- brewery_id: integer (nullable = true)\n",
      " |-- brewery_name: string (nullable = true)\n",
      " |-- review_time: integer (nullable = true)\n",
      " |-- review_overall: double (nullable = true)\n",
      " |-- review_aroma: double (nullable = true)\n",
      " |-- review_appearance: double (nullable = true)\n",
      " |-- review_profilename: string (nullable = true)\n",
      " |-- beer_style: string (nullable = true)\n",
      " |-- review_palate: double (nullable = true)\n",
      " |-- review_taste: double (nullable = true)\n",
      " |-- beer_name: string (nullable = true)\n",
      " |-- beer_abv: double (nullable = true)\n",
      " |-- beer_beerid: integer (nullable = true)\n",
      "\n"
     ]
    },
    {
     "data": {
      "text/plain": [
       "reviews = [brewery_id: int, brewery_name: string ... 11 more fields]\n"
      ]
     },
     "metadata": {},
     "output_type": "display_data",
     "source": "user"
    },
    {
     "data": {
      "text/plain": [
       "lastException: Throwable = null\n"
      ]
     },
     "metadata": {},
     "output_type": "display_data",
     "source": "user"
    },
    {
     "data": {
      "text/plain": [
       "[brewery_id: int, brewery_name: string ... 11 more fields]"
      ]
     },
     "execution_count": 4,
     "metadata": {},
     "output_type": "execute_result"
    }
   ],
   "source": [
    "val reviews = spark.read\n",
    "    .format(\"csv\")\n",
    "    .option(\"header\",\"true\")\n",
    "    .option(\"delimiter\", \",\")\n",
    "    .option(\"inferSchema\", \"true\")\n",
    "    .load(\"./data/beer_reviews.csv\")\n",
    "\n",
    "reviews.printSchema()"
   ]
  },
  {
   "cell_type": "code",
   "execution_count": 26,
   "metadata": {},
   "outputs": [
    {
     "name": "stdout",
     "output_type": "stream",
     "text": [
      "+-----------------------------------+-----+------+-------------------+\n",
      "|beer_style                         |count|total |percentage         |\n",
      "+-----------------------------------+-----+------+-------------------+\n",
      "|Quadrupel (Quad)                   |4279 |18083 |23.663108997400872 |\n",
      "|American Double / Imperial Stout   |11649|50238 |23.187626895975157 |\n",
      "|American Wild Ale                  |3562 |17751 |20.06647512816179  |\n",
      "|Gueuze                             |1174 |6009  |19.537360625728077 |\n",
      "|Eisbock                            |513  |2663  |19.263987983477282 |\n",
      "|Russian Imperial Stout             |10314|53819 |19.16423567884948  |\n",
      "|Lambic - Unblended                 |186  |1106  |16.817359855334537 |\n",
      "|American Double / Imperial IPA     |14114|85071 |16.590847644908372 |\n",
      "|Flanders Red Ale                   |942  |6386  |14.751017851550266 |\n",
      "|English Barleywine                 |1818 |13703 |13.26716777348026  |\n",
      "|Weizenbock                         |1222 |9396  |13.005534269902085 |\n",
      "|Lambic - Fruit                     |1402 |10949 |12.804822358206227 |\n",
      "|American Strong Ale                |4063 |31918 |12.729494329218621 |\n",
      "|Old Ale                            |1780 |14337 |12.415428611285485 |\n",
      "|American Barleywine                |3225 |26346 |12.240947392393533 |\n",
      "|Belgian Strong Dark Ale            |4104 |37080 |11.067961165048544 |\n",
      "|Bière de Champagne / Bière Brut    |109  |1046  |10.420650095602294 |\n",
      "|Baltic Porter                      |1163 |11215 |10.370040124832814 |\n",
      "|Tripel                             |3011 |29762 |10.116927625831597 |\n",
      "|Dubbel                             |1949 |19408 |10.042250618301733 |\n",
      "|Flanders Oud Bruin                 |477  |4937  |9.661737897508608  |\n",
      "|Doppelbock                         |2064 |21679 |9.520734351215463  |\n",
      "|Rye Beer                           |952  |10079 |9.445381486258556  |\n",
      "|Belgian Strong Pale Ale            |2825 |31200 |9.054487179487179  |\n",
      "|Wheatwine                          |331  |3714  |8.912224017232095  |\n",
      "|American IPA                       |9967 |116681|8.54209339995372   |\n",
      "|Belgian IPA                        |1045 |12466 |8.38280121931654   |\n",
      "|Saison / Farmhouse Ale             |2458 |31071 |7.9109137137523735 |\n",
      "|American Stout                     |1893 |24237 |7.8103725708627305 |\n",
      "|Oatmeal Stout                      |1379 |17895 |7.706063146130204  |\n",
      "|American Black Ale                 |849  |11277 |7.528598031391327  |\n",
      "|Scotch Ale / Wee Heavy             |1206 |16788 |7.183702644746247  |\n",
      "|Hefeweizen                         |1922 |27832 |6.90572003449267   |\n",
      "|American Double / Imperial Pilsner |374  |5434  |6.882591093117409  |\n",
      "|American Porter                    |3366 |49150 |6.8484231943031535 |\n",
      "|Rauchbier                          |269  |3942  |6.8239472349061385 |\n",
      "|English Porter                     |747  |11173 |6.685760315045199  |\n",
      "|Milk / Sweet Stout                 |868  |13138 |6.606789465672096  |\n",
      "|Bière de Garde                     |422  |6708  |6.2909958258795475 |\n",
      "|Foreign / Export Stout             |367  |5972  |6.145344943067649  |\n",
      "|Belgian Pale Ale                   |1028 |19288 |5.329738697635836  |\n",
      "|Roggenbier                         |24   |466   |5.150214592274678  |\n",
      "|Dunkelweizen                       |365  |7110  |5.133614627285513  |\n",
      "|American Brown Ale                 |1283 |25242 |5.082798510419143  |\n",
      "|Berliner Weissbier                 |176  |3473  |5.067664843075151  |\n",
      "|Gose                               |32   |686   |4.664723032069971  |\n",
      "|Altbier                            |332  |7204  |4.6085508051082735 |\n",
      "|English Strong Ale                 |219  |4784  |4.577759197324414  |\n",
      "|Braggot                            |46   |1037  |4.435872709739633  |\n",
      "|Sahti                              |47   |1061  |4.429783223374175  |\n",
      "|Pumpkin Ale                        |652  |15530 |4.198325820991629  |\n",
      "|Smoked Beer                        |119  |2958  |4.022988505747127  |\n",
      "|Keller Bier / Zwickel Bier         |99   |2573  |3.84764865915274   |\n",
      "|Fruit / Vegetable Beer             |1291 |33758 |3.824278689495823  |\n",
      "|American Amber / Red Ale           |1719 |45413 |3.785259727390835  |\n",
      "|American Pale Ale (APA)            |2293 |62553 |3.6656914936134157 |\n",
      "|Winter Warmer                      |708  |20512 |3.4516380655226206 |\n",
      "|Witbier                            |987  |29898 |3.3012241621513145 |\n",
      "|Faro                               |20   |609   |3.284072249589491  |\n",
      "|Dortmunder / Export Lager          |138  |4415  |3.1257078142695356 |\n",
      "|Belgian Dark Ale                   |189  |6539  |2.890350206453586  |\n",
      "|Extra Special / Strong Bitter (ESB)|489  |17042 |2.8693815279896726 |\n",
      "|Irish Dry Stout                    |355  |12561 |2.8262081044502825 |\n",
      "|German Pilsener                    |604  |22101 |2.732908013212072  |\n",
      "|Munich Helles Lager                |208  |7842  |2.652384595766386  |\n",
      "|Maibock / Helles Bock              |277  |10594 |2.614687558995658  |\n",
      "|American Pale Wheat Ale            |624  |24091 |2.590178904985264  |\n",
      "|Scottish Gruit / Ancient Herbed Ale|69   |2751  |2.5081788440567068 |\n",
      "|Schwarzbier                        |238  |9790  |2.4310520939734426 |\n",
      "|Chile Beer                         |55   |2275  |2.417582417582418  |\n",
      "|Czech Pilsener                     |301  |12656 |2.3783185840707963 |\n",
      "|California Common / Steam Beer     |95   |4035  |2.3543990086741013 |\n",
      "|Herbed / Spiced Beer               |234  |10298 |2.2722858807535444 |\n",
      "|English India Pale Ale (IPA)       |352  |15643 |2.2502077606597197 |\n",
      "|Kristalweizen                      |48   |2204  |2.1778584392014517 |\n",
      "|English Brown Ale                  |389  |17863 |2.1776857190841405 |\n",
      "|Vienna Lager                       |194  |8951  |2.1673556027259524 |\n",
      "|Scottish Ale                       |195  |9024  |2.1609042553191493 |\n",
      "|Bock                               |235  |11516 |2.040639110802362  |\n",
      "|English Bitter                     |171  |8638  |1.9796249131743457 |\n",
      "|English Stout                      |58   |2956  |1.962110960757781  |\n",
      "|Märzen / Oktoberfest               |431  |23484 |1.8352921137795946 |\n",
      "|Cream Ale                          |91   |5071  |1.794517846578584  |\n",
      "|Irish Red Ale                      |133  |7756  |1.7148014440433215 |\n",
      "|Kölsch                             |131  |8143  |1.6087437062507677 |\n",
      "|English Dark Mild Ale              |36   |2244  |1.6042780748663104 |\n",
      "|Munich Dunkel Lager                |126  |7895  |1.5959468017732743 |\n",
      "|American Dark Wheat Ale            |22   |1464  |1.5027322404371584 |\n",
      "|English Pale Ale                   |339  |23064 |1.4698231009365244 |\n",
      "|English Pale Mild Ale              |10   |697   |1.4347202295552368 |\n",
      "|Kvass                              |4    |297   |1.3468013468013467 |\n",
      "|Euro Dark Lager                    |62   |4645  |1.334768568353068  |\n",
      "|American Amber / Red Lager         |113  |9244  |1.2224145391605366 |\n",
      "|Black & Tan                        |21   |2345  |0.8955223880597015 |\n",
      "|Low Alcohol Beer                   |10   |1198  |0.8347245409015025 |\n",
      "|American Blonde Ale                |103  |12366 |0.8329289988678635 |\n",
      "|American Pale Lager                |72   |9017  |0.7984917378285461 |\n",
      "|Euro Strong Lager                  |12   |2712  |0.4424778761061947 |\n",
      "|Euro Pale Lager                    |77   |17958 |0.42877826038534356|\n",
      "|Happoshu                           |1    |241   |0.4149377593360996 |\n",
      "|Japanese Rice Lager                |6    |1546  |0.38809831824062097|\n",
      "|American Malt Liquor               |13   |3919  |0.3317172748150038 |\n",
      "|Light Lager                        |46   |14272 |0.32230941704035876|\n",
      "|American Adjunct Lager             |86   |30586 |0.2811743935133721 |\n",
      "+-----------------------------------+-----+------+-------------------+\n",
      "\n"
     ]
    },
    {
     "data": {
      "text/plain": [
       "myFilter = ((((review_taste > 4) AND (review_palate > 4)) AND (review_aroma > 4)) AND (review_overall > 3.5))\n",
       "goodBeerCountByStyle = [beer_style: string, count: bigint]\n",
       "countByStyle = [beer_style: string, total: bigint]\n",
       "bestStyles = [beer_style: string, count: bigint ... 2 more fields]\n"
      ]
     },
     "metadata": {},
     "output_type": "display_data",
     "source": "user"
    },
    {
     "data": {
      "text/plain": [
       "[beer_style: string, count: bigint ... 2 more fields]"
      ]
     },
     "execution_count": 26,
     "metadata": {},
     "output_type": "execute_result"
    }
   ],
   "source": [
    "val reviewFilter = $\"review_taste\" > 4 &&\n",
    "    $\"review_palate\" > 4 &&\n",
    "    $\"review_aroma\" > 4 &&\n",
    "    $\"review_overall\" > 3.5\n",
    "\n",
    "val goodBeerCountByStyle = reviews\n",
    "    .filter(reviewFilter)\n",
    "    .groupBy(\"beer_style\")\n",
    "    .count().sort($\"count\".desc)\n",
    "\n",
    "val countByStyle = reviews.groupBy(\"beer_style\").count().withColumnRenamed(\"count\",\"total\")\n",
    "\n",
    "val bestStyles = goodBeerCountByStyle.join(countByStyle, \"beer_style\")\n",
    "// or join(countByStyle, Seq(\"beer_style\"), \"inner\") possible join types: inner, outer, left_outer, right_outer, leftsemi\n",
    "    .withColumn(\"percentage\", goodBeerCountByStyle.col(\"count\") / countByStyle.col(\"total\")  * 100)\n",
    "    .sort($\"percentage\".desc)\n",
    "\n",
    "bestStyles.show(bestStyles.count().toInt, false)  // false, not truncate column name\n"
   ]
  },
  {
   "cell_type": "code",
   "execution_count": 19,
   "metadata": {},
   "outputs": [
    {
     "data": {
      "text/html": [
       "<table><tr><th>beer_style</th><th>count</th><th>total</th><th>percentage</th></tr><tr><td>Quadrupel (Quad)</td><td>4279</td><td>18083</td><td>23.663108997400872</td></tr><tr><td>American Double / Imperial Stout</td><td>11649</td><td>50238</td><td>23.187626895975157</td></tr><tr><td>American Wild Ale</td><td>3562</td><td>17751</td><td>20.06647512816179</td></tr><tr><td>Gueuze</td><td>1174</td><td>6009</td><td>19.537360625728077</td></tr><tr><td>Eisbock</td><td>513</td><td>2663</td><td>19.263987983477282</td></tr><tr><td>Russian Imperial Stout</td><td>10314</td><td>53819</td><td>19.16423567884948</td></tr><tr><td>Lambic - Unblended</td><td>186</td><td>1106</td><td>16.817359855334537</td></tr><tr><td>American Double / Imperial IPA</td><td>14114</td><td>85071</td><td>16.590847644908372</td></tr><tr><td>Flanders Red Ale</td><td>942</td><td>6386</td><td>14.751017851550266</td></tr><tr><td>English Barleywine</td><td>1818</td><td>13703</td><td>13.26716777348026</td></tr></table>"
      ]
     },
     "execution_count": 19,
     "metadata": {},
     "output_type": "execute_result"
    }
   ],
   "source": [
    "%%dataframe\n",
    "bestStyles"
   ]
  },
  {
   "cell_type": "code",
   "execution_count": null,
   "metadata": {},
   "outputs": [],
   "source": []
  },
  {
   "cell_type": "markdown",
   "metadata": {},
   "source": [
    "## Recipies"
   ]
  },
  {
   "cell_type": "markdown",
   "metadata": {},
   "source": [
    "### Styles"
   ]
  },
  {
   "cell_type": "code",
   "execution_count": 22,
   "metadata": {},
   "outputs": [
    {
     "name": "stdout",
     "output_type": "stream",
     "text": [
      "root\n",
      " |-- Style: string (nullable = true)\n",
      " |-- StyleID: integer (nullable = true)\n",
      "\n"
     ]
    },
    {
     "data": {
      "text/plain": [
       "styles = [Style: string, StyleID: int]\n"
      ]
     },
     "metadata": {},
     "output_type": "display_data",
     "source": "user"
    },
    {
     "data": {
      "text/plain": [
       "lastException: Throwable = null\n"
      ]
     },
     "metadata": {},
     "output_type": "display_data",
     "source": "user"
    },
    {
     "data": {
      "text/plain": [
       "[Style: string, StyleID: int]"
      ]
     },
     "execution_count": 22,
     "metadata": {},
     "output_type": "execute_result"
    }
   ],
   "source": [
    "val styles = spark.read\n",
    "    .format(\"csv\")\n",
    "    .option(\"header\",\"true\")\n",
    "    .option(\"delimiter\", \",\")\n",
    "    .option(\"inferSchema\", \"true\")\n",
    "    .load(\"./data/styleData.csv\")\n",
    "\n",
    "styles.printSchema()"
   ]
  },
  {
   "cell_type": "code",
   "execution_count": 23,
   "metadata": {},
   "outputs": [
    {
     "data": {
      "text/html": [
       "<table><tr><th>Style</th><th>StyleID</th></tr><tr><td>Altbier</td><td>1</td></tr><tr><td>Alternative Grain Beer</td><td>2</td></tr><tr><td>Alternative Sugar Beer</td><td>3</td></tr><tr><td>American Amber Ale</td><td>4</td></tr><tr><td>American Barleywine</td><td>5</td></tr><tr><td>American Brown Ale</td><td>6</td></tr><tr><td>American IPA</td><td>7</td></tr><tr><td>American Lager</td><td>8</td></tr><tr><td>American Light Lager</td><td>9</td></tr><tr><td>American Pale Ale</td><td>10</td></tr></table>"
      ]
     },
     "execution_count": 23,
     "metadata": {},
     "output_type": "execute_result"
    }
   ],
   "source": [
    "%%dataframe\n",
    "styles"
   ]
  },
  {
   "cell_type": "code",
   "execution_count": 24,
   "metadata": {},
   "outputs": [
    {
     "name": "stdout",
     "output_type": "stream",
     "text": [
      "+-------------------+-------+\n",
      "|              Style|StyleID|\n",
      "+-------------------+-------+\n",
      "|            Altbier|      1|\n",
      "|American Barleywine|      5|\n",
      "| American Brown Ale|      6|\n",
      "|       American IPA|      7|\n",
      "|    American Porter|     11|\n",
      "|     American Stout|     12|\n",
      "|American Strong Ale|     13|\n",
      "|      Baltic Porter|     19|\n",
      "|   Belgian Pale Ale|     24|\n",
      "|            Braggot|     32|\n",
      "|          Cream Ale|     45|\n",
      "|         Doppelbock|     54|\n",
      "|       Dunkelweizen|     59|\n",
      "|            Eisbock|     62|\n",
      "| English Barleywine|     63|\n",
      "|     English Porter|     66|\n",
      "|   Flanders Red Ale|     71|\n",
      "|               Gose|     82|\n",
      "|             Gueuze|     83|\n",
      "|      Irish Red Ale|     92|\n",
      "+-------------------+-------+\n",
      "only showing top 20 rows\n",
      "\n"
     ]
    },
    {
     "data": {
      "text/plain": [
       "bestStylesList = WrappedArray(Quadrupel (Quad), American Double / Imperial Stout, American Wild Ale, Gueuze, Eisbock, Russian Imperial Stout, Lambic - Unblended, American Double / Imperial IPA, Flanders Red Ale, English Barleywine, Weizenbock, Lambic - Fruit, American Strong Ale, Old Ale, American Barleywine, Belgian Strong Dark Ale, Bière de Champagne / Bière Brut, Baltic Porter, Tripel, Dubbel, Flanders Oud Bruin, Doppelbock, Rye Beer, Belgian Strong Pale Ale, Wheatwine, American IPA, Belgian IPA, Saison / Farmhouse Ale, American Stout, Oatmeal Stout, American Black Ale, Scotch Ale / Wee Heavy, Hefeweizen, American Double / Imperial Pilsner, American Porter, Rauchbier, English Porter, Milk / Sweet Stout, Bière de Garde, Foreign / Export Stout, Belgian Pale Ale, Roggenbier...\n"
      ]
     },
     "metadata": {},
     "output_type": "display_data",
     "source": "user"
    },
    {
     "data": {
      "text/plain": [
       "WrappedArray(Quadrupel (Quad), American Double / Imperial Stout, American Wild Ale, Gueuze, Eisbock, Russian Imperial Stout, Lambic - Unblended, American Double / Imperial IPA, Flanders Red Ale, English Barleywine, Weizenbock, Lambic - Fruit, American Strong Ale, Old Ale, American Barleywine, Belgian Strong Dark Ale, Bière de Champagne / Bière Brut, Baltic Porter, Tripel, Dubbel, Flanders Oud Bruin, Doppelbock, Rye Beer, Belgian Strong Pale Ale, Wheatwine, American IPA, Belgian IPA, Saison / Farmhouse Ale, American Stout, Oatmeal Stout, American Black Ale, Scotch Ale / Wee Heavy, Hefeweizen, American Double / Imperial Pilsner, American Porter, Rauchbier, English Porter, Milk / Sweet Stout, Bière de Garde, Foreign / Export Stout, Belgian Pale Ale, Roggenbier..."
      ]
     },
     "execution_count": 24,
     "metadata": {},
     "output_type": "execute_result"
    }
   ],
   "source": [
    "//val bestStyles = bestReviewBeerStyles.select(\"beer_style\").map(_.getString(0)).collect.toSeq\n",
    "val bestStylesList = bestStyles.select(\"beer_style\").as[String].collect.toSeq\n",
    "styles.filter($\"Style\" isin (bestStylesList: _*)).show"
   ]
  },
  {
   "cell_type": "code",
   "execution_count": null,
   "metadata": {},
   "outputs": [],
   "source": []
  },
  {
   "cell_type": "markdown",
   "metadata": {},
   "source": [
    "### Recipe"
   ]
  },
  {
   "cell_type": "code",
   "execution_count": 15,
   "metadata": {},
   "outputs": [
    {
     "name": "stdout",
     "output_type": "stream",
     "text": [
      "root\n",
      " |-- BeerID: integer (nullable = true)\n",
      " |-- Name: string (nullable = true)\n",
      " |-- URL: string (nullable = true)\n",
      " |-- Style: string (nullable = true)\n",
      " |-- StyleID: integer (nullable = true)\n",
      " |-- Size(L): double (nullable = true)\n",
      " |-- OG: double (nullable = true)\n",
      " |-- FG: double (nullable = true)\n",
      " |-- ABV: double (nullable = true)\n",
      " |-- IBU: double (nullable = true)\n",
      " |-- Color: double (nullable = true)\n",
      " |-- BoilSize: double (nullable = true)\n",
      " |-- BoilTime: integer (nullable = true)\n",
      " |-- BoilGravity: string (nullable = true)\n",
      " |-- Efficiency: double (nullable = true)\n",
      " |-- MashThickness: string (nullable = true)\n",
      " |-- SugarScale: string (nullable = true)\n",
      " |-- BrewMethod: string (nullable = true)\n",
      " |-- PitchRate: string (nullable = true)\n",
      " |-- PrimaryTemp: string (nullable = true)\n",
      " |-- PrimingMethod: string (nullable = true)\n",
      " |-- PrimingAmount: string (nullable = true)\n",
      " |-- UserId: integer (nullable = true)\n",
      "\n"
     ]
    },
    {
     "data": {
      "text/plain": [
       "recipes = [BeerID: int, Name: string ... 21 more fields]\n"
      ]
     },
     "metadata": {},
     "output_type": "display_data",
     "source": "user"
    },
    {
     "data": {
      "text/plain": [
       "[BeerID: int, Name: string ... 21 more fields]"
      ]
     },
     "execution_count": 15,
     "metadata": {},
     "output_type": "execute_result"
    }
   ],
   "source": [
    "val recipes = spark.read\n",
    "    .format(\"csv\")\n",
    "    .option(\"header\",\"true\")\n",
    "    .option(\"delimiter\", \",\")\n",
    "    .option(\"inferSchema\", \"true\")\n",
    "    .load(\"/home/jovyan/work/recipeData.csv\")\n",
    "\n",
    "recipes.printSchema"
   ]
  },
  {
   "cell_type": "code",
   "execution_count": null,
   "metadata": {},
   "outputs": [],
   "source": [
    "val stylesIds = styles.select(\"StyleID\").as[Int].collect.toSeq\n",
    "recipie.filter($\"StyleID\" isin (stylesIds: _*))"
   ]
  },
  {
   "cell_type": "code",
   "execution_count": null,
   "metadata": {},
   "outputs": [],
   "source": []
  }
 ],
 "metadata": {
  "kernelspec": {
   "display_name": "Apache Toree - Scala",
   "language": "scala",
   "name": "apache_toree_scala"
  },
  "language_info": {
   "codemirror_mode": "text/x-scala",
   "file_extension": ".scala",
   "mimetype": "text/x-scala",
   "name": "scala",
   "pygments_lexer": "scala",
   "version": "2.11.12"
  }
 },
 "nbformat": 4,
 "nbformat_minor": 2
}
