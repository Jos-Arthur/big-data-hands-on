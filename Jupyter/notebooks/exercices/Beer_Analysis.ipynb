{
 "cells": [
  {
   "cell_type": "markdown",
   "metadata": {},
   "source": [
    "# Spark Beer Analysis #\n",
    "Analyse de dataset de bières, avec Apache Spark.\n",
    "\n",
    "\n",
    "\n",
    "[Guide de styles BJCP](https://www.brassageamateur.com/wiki/index.php/Guide_de_styles_BJCP) (Beer Judge Certification Program ou \"Programme de certification de juge de bière\")\n",
    "\n",
    "[Dictionnaire Anglais-Français des termes brassicoles](https://www.brassageamateur.com/wiki/index.php/Dictionnaire_Anglais-Fran%C3%A7ais_des_termes_brassicoles)\n",
    "\n",
    "[Lexique francais/anglais](https://www.brassageamateur.com/wiki/index.php/Lexique_francais/anglais)\n",
    "\n",
    "\n",
    "Dataset:\n",
    "- [Recettes de bière](https://www.kaggle.com/jtrofe/beer-recipes/kernels) scraped from [Brewer's Friend](https://www.brewersfriend.com/)\n",
    "- [Critiques de bières](https://data.world/socialmediadata/beeradvocate)\n"
   ]
  },
  {
   "cell_type": "markdown",
   "metadata": {},
   "source": [
    "## TODO\n",
    "\n",
    "- [X] Charger le fichier des critiques et trouver les style de bières les plus appréciés\n",
    "- [ ] Chercher parmis les résultats des corrélations entre note et degré d'alcool et amertume\n",
    "- [ ] Charger le fichier de recettes et filtrer sur les styles trouvés précédement\n",
    "- [ ] puis grouper par ABV / IBU\n"
   ]
  },
  {
   "cell_type": "code",
   "execution_count": 1,
   "metadata": {},
   "outputs": [
    {
     "data": {
      "text/plain": [
       "spark = org.apache.spark.sql.SparkSession@12b2bb45\n",
       "savePath = ./\n"
      ]
     },
     "metadata": {},
     "output_type": "display_data",
     "source": "user"
    },
    {
     "data": {
      "text/plain": [
       "./"
      ]
     },
     "execution_count": 1,
     "metadata": {},
     "output_type": "execute_result"
    }
   ],
   "source": [
    "val spark = SparkSession.builder.config(sc.getConf).getOrCreate\n",
    "\n",
    "// Configure checkpoint\n",
    "val savePath = \"./\"\n",
    "spark.sparkContext.setCheckpointDir(savePath)"
   ]
  },
  {
   "cell_type": "markdown",
   "metadata": {},
   "source": [
    "## Reviews"
   ]
  },
  {
   "cell_type": "code",
   "execution_count": 2,
   "metadata": {},
   "outputs": [
    {
     "name": "stdout",
     "output_type": "stream",
     "text": [
      "root\n",
      " |-- brewery_id: integer (nullable = true)\n",
      " |-- brewery_name: string (nullable = true)\n",
      " |-- review_time: integer (nullable = true)\n",
      " |-- review_overall: double (nullable = true)\n",
      " |-- review_aroma: double (nullable = true)\n",
      " |-- review_appearance: double (nullable = true)\n",
      " |-- review_profilename: string (nullable = true)\n",
      " |-- beer_style: string (nullable = true)\n",
      " |-- review_palate: double (nullable = true)\n",
      " |-- review_taste: double (nullable = true)\n",
      " |-- beer_name: string (nullable = true)\n",
      " |-- beer_abv: double (nullable = true)\n",
      " |-- beer_beerid: integer (nullable = true)\n",
      "\n"
     ]
    },
    {
     "data": {
      "text/plain": [
       "reviews = [brewery_id: int, brewery_name: string ... 11 more fields]\n"
      ]
     },
     "metadata": {},
     "output_type": "display_data",
     "source": "user"
    },
    {
     "data": {
      "text/plain": [
       "[brewery_id: int, brewery_name: string ... 11 more fields]"
      ]
     },
     "execution_count": 2,
     "metadata": {},
     "output_type": "execute_result"
    }
   ],
   "source": [
    "val reviews = spark.read\n",
    "    .format(\"csv\")\n",
    "    .option(\"header\",\"true\")\n",
    "    .option(\"delimiter\", \",\")\n",
    "    .option(\"inferSchema\", \"true\")\n",
    "    .load(\"./data/beer_reviews.csv\")\n",
    "\n",
    "reviews.printSchema()"
   ]
  },
  {
   "cell_type": "code",
   "execution_count": 3,
   "metadata": {},
   "outputs": [
    {
     "name": "stdout",
     "output_type": "stream",
     "text": [
      "+--------------------------------+-----+-----+------------------+\n",
      "|beer_style                      |count|total|percentage        |\n",
      "+--------------------------------+-----+-----+------------------+\n",
      "|Quadrupel (Quad)                |4279 |18086|23.659183899148513|\n",
      "|American Double / Imperial Stout|11698|50705|23.070703086480624|\n",
      "|American Wild Ale               |3562 |17794|20.017983589974147|\n",
      "|Gueuze                          |1174 |6009 |19.537360625728077|\n",
      "|Eisbock                         |513  |2663 |19.263987983477282|\n",
      "|Russian Imperial Stout          |10329|54129|19.08219254004323 |\n",
      "+--------------------------------+-----+-----+------------------+\n",
      "\n"
     ]
    },
    {
     "data": {
      "text/plain": [
       "reviewFilter = ((((review_taste > 4) AND (review_palate > 4)) AND (review_aroma > 4)) AND (review_overall > 3.5))\n",
       "goodBeers = [brewery_id: int, brewery_name: string ... 11 more fields]\n",
       "goodBeerCountByStyle = [beer_style: string, count: bigint]\n",
       "countByStyle = [beer_style: string, total: bigint]\n",
       "bestStyles = [beer_style: string, count: bigint ... 2 more fields]\n"
      ]
     },
     "metadata": {},
     "output_type": "display_data",
     "source": "user"
    },
    {
     "data": {
      "text/plain": [
       "[beer_style: string, count: bigint ... 2 more fields]"
      ]
     },
     "execution_count": 3,
     "metadata": {},
     "output_type": "execute_result"
    }
   ],
   "source": [
    "val reviewFilter = $\"review_taste\" > 4 &&\n",
    "    $\"review_palate\" > 4 &&\n",
    "    $\"review_aroma\" > 4 &&\n",
    "    $\"review_overall\" > 3.5\n",
    "\n",
    "val goodBeers = reviews.filter(reviewFilter).checkpoint()\n",
    "\n",
    "val goodBeerCountByStyle = goodBeers\n",
    "    .groupBy(\"beer_style\")\n",
    "    .count().sort($\"count\".desc)\n",
    "\n",
    "val countByStyle = reviews.groupBy(\"beer_style\").count().withColumnRenamed(\"count\",\"total\")\n",
    "\n",
    "val bestStyles = goodBeerCountByStyle.join(countByStyle, \"beer_style\")\n",
    "// or join(countByStyle, Seq(\"beer_style\"), \"inner\") possible join types: inner, outer, left_outer, right_outer, leftsemi\n",
    "    .withColumn(\"percentage\", goodBeerCountByStyle.col(\"count\") / countByStyle.col(\"total\")  * 100)\n",
    "    .sort($\"percentage\".desc)\n",
    "    .filter($\"percentage\" > 19)\n",
    "\n",
    "bestStyles.show(bestStyles.count().toInt, false)  // false, not truncate column name\n"
   ]
  },
  {
   "cell_type": "code",
   "execution_count": 4,
   "metadata": {},
   "outputs": [
    {
     "data": {
      "text/html": [
       "<table><tr><th>beer_style</th><th>count</th><th>total</th><th>percentage</th></tr><tr><td>Quadrupel (Quad)</td><td>4279</td><td>18086</td><td>23.659183899148513</td></tr><tr><td>American Double / Imperial Stout</td><td>11698</td><td>50705</td><td>23.070703086480624</td></tr><tr><td>American Wild Ale</td><td>3562</td><td>17794</td><td>20.017983589974147</td></tr><tr><td>Gueuze</td><td>1174</td><td>6009</td><td>19.537360625728077</td></tr><tr><td>Eisbock</td><td>513</td><td>2663</td><td>19.263987983477282</td></tr><tr><td>Russian Imperial Stout</td><td>10329</td><td>54129</td><td>19.08219254004323</td></tr></table>"
      ]
     },
     "execution_count": 4,
     "metadata": {},
     "output_type": "execute_result"
    }
   ],
   "source": [
    "%%dataframe\n",
    "bestStyles"
   ]
  },
  {
   "cell_type": "markdown",
   "metadata": {},
   "source": [
    "## Recipies"
   ]
  },
  {
   "cell_type": "markdown",
   "metadata": {},
   "source": [
    "### Styles"
   ]
  },
  {
   "cell_type": "code",
   "execution_count": 5,
   "metadata": {},
   "outputs": [
    {
     "name": "stdout",
     "output_type": "stream",
     "text": [
      "root\n",
      " |-- Style: string (nullable = true)\n",
      " |-- StyleID: integer (nullable = true)\n",
      "\n"
     ]
    },
    {
     "data": {
      "text/plain": [
       "styles = [Style: string, StyleID: int]\n"
      ]
     },
     "metadata": {},
     "output_type": "display_data",
     "source": "user"
    },
    {
     "data": {
      "text/plain": [
       "[Style: string, StyleID: int]"
      ]
     },
     "execution_count": 5,
     "metadata": {},
     "output_type": "execute_result"
    }
   ],
   "source": [
    "val styles = spark.read\n",
    "    .format(\"csv\")\n",
    "    .option(\"header\",\"true\")\n",
    "    .option(\"delimiter\", \",\")\n",
    "    .option(\"inferSchema\", \"true\")\n",
    "    .load(\"./data/styleData.csv\")\n",
    "\n",
    "styles.printSchema()"
   ]
  },
  {
   "cell_type": "code",
   "execution_count": 6,
   "metadata": {},
   "outputs": [
    {
     "data": {
      "text/html": [
       "<table><tr><th>Style</th><th>StyleID</th></tr><tr><td>Altbier</td><td>1</td></tr><tr><td>Alternative Grain Beer</td><td>2</td></tr><tr><td>Alternative Sugar Beer</td><td>3</td></tr><tr><td>American Amber Ale</td><td>4</td></tr><tr><td>American Barleywine</td><td>5</td></tr><tr><td>American Brown Ale</td><td>6</td></tr><tr><td>American IPA</td><td>7</td></tr><tr><td>American Lager</td><td>8</td></tr><tr><td>American Light Lager</td><td>9</td></tr><tr><td>American Pale Ale</td><td>10</td></tr></table>"
      ]
     },
     "execution_count": 6,
     "metadata": {},
     "output_type": "execute_result"
    }
   ],
   "source": [
    "%%dataframe\n",
    "styles"
   ]
  },
  {
   "cell_type": "code",
   "execution_count": 7,
   "metadata": {},
   "outputs": [
    {
     "name": "stdout",
     "output_type": "stream",
     "text": [
      "+--------------------+-------+\n",
      "|               Style|StyleID|\n",
      "+--------------------+-------+\n",
      "|             Eisbock|     62|\n",
      "|              Gueuze|     83|\n",
      "|Russian Imperial ...|    132|\n",
      "+--------------------+-------+\n",
      "\n"
     ]
    },
    {
     "data": {
      "text/plain": [
       "bestStylesList = WrappedArray(Quadrupel (Quad), American Double / Imperial Stout, American Wild Ale, Gueuze, Eisbock, Russian Imperial Stout)\n",
       "stylesInBestStyles = [Style: string, StyleID: int]\n"
      ]
     },
     "metadata": {},
     "output_type": "display_data",
     "source": "user"
    },
    {
     "data": {
      "text/plain": [
       "[Style: string, StyleID: int]"
      ]
     },
     "execution_count": 7,
     "metadata": {},
     "output_type": "execute_result"
    }
   ],
   "source": [
    "//val bestStyles = bestReviewBeerStyles.select(\"beer_style\").map(_.getString(0)).collect.toSeq\n",
    "val bestStylesList = bestStyles.select(\"beer_style\").as[String].collect.toSeq\n",
    "val stylesInBestStyles = styles.filter($\"Style\" isin (bestStylesList: _*))\n",
    "stylesInBestStyles.show"
   ]
  },
  {
   "cell_type": "markdown",
   "metadata": {},
   "source": [
    "### Recipe"
   ]
  },
  {
   "cell_type": "code",
   "execution_count": 8,
   "metadata": {},
   "outputs": [
    {
     "name": "stdout",
     "output_type": "stream",
     "text": [
      "root\n",
      " |-- BeerID: integer (nullable = true)\n",
      " |-- Name: string (nullable = true)\n",
      " |-- URL: string (nullable = true)\n",
      " |-- Style: string (nullable = true)\n",
      " |-- StyleID: integer (nullable = true)\n",
      " |-- Size(L): double (nullable = true)\n",
      " |-- OG: double (nullable = true)\n",
      " |-- FG: double (nullable = true)\n",
      " |-- ABV: double (nullable = true)\n",
      " |-- IBU: double (nullable = true)\n",
      " |-- Color: double (nullable = true)\n",
      " |-- BoilSize: double (nullable = true)\n",
      " |-- BoilTime: integer (nullable = true)\n",
      " |-- BoilGravity: string (nullable = true)\n",
      " |-- Efficiency: double (nullable = true)\n",
      " |-- MashThickness: string (nullable = true)\n",
      " |-- SugarScale: string (nullable = true)\n",
      " |-- BrewMethod: string (nullable = true)\n",
      " |-- PitchRate: string (nullable = true)\n",
      " |-- PrimaryTemp: string (nullable = true)\n",
      " |-- PrimingMethod: string (nullable = true)\n",
      " |-- PrimingAmount: string (nullable = true)\n",
      " |-- UserId: integer (nullable = true)\n",
      "\n"
     ]
    },
    {
     "data": {
      "text/plain": [
       "recipes = [BeerID: int, Name: string ... 21 more fields]\n"
      ]
     },
     "metadata": {},
     "output_type": "display_data",
     "source": "user"
    },
    {
     "data": {
      "text/plain": [
       "[BeerID: int, Name: string ... 21 more fields]"
      ]
     },
     "execution_count": 8,
     "metadata": {},
     "output_type": "execute_result"
    }
   ],
   "source": [
    "val recipes = spark.read\n",
    "    .format(\"csv\")\n",
    "    .option(\"header\",\"true\")\n",
    "    .option(\"delimiter\", \",\")\n",
    "    .option(\"inferSchema\", \"true\")\n",
    "    .load(\"./data/recipeData.csv\")\n",
    "\n",
    "recipes.printSchema"
   ]
  },
  {
   "cell_type": "code",
   "execution_count": 9,
   "metadata": {},
   "outputs": [
    {
     "data": {
      "text/plain": [
       "bestStylesIds = WrappedArray(62, 83, 132)\n",
       "recipesWithGoodStyle = [BeerID: int, Name: string ... 21 more fields]\n"
      ]
     },
     "metadata": {},
     "output_type": "display_data",
     "source": "user"
    },
    {
     "data": {
      "text/plain": [
       "[BeerID: int, Name: string ... 21 more fields]"
      ]
     },
     "execution_count": 9,
     "metadata": {},
     "output_type": "execute_result"
    }
   ],
   "source": [
    "val bestStylesIds = stylesInBestStyles.select(\"StyleID\").as[Int].collect.toSeq\n",
    "val recipesWithGoodStyle = recipes.filter($\"StyleID\" isin (bestStylesIds: _*))"
   ]
  },
  {
   "cell_type": "code",
   "execution_count": 10,
   "metadata": {},
   "outputs": [
    {
     "data": {
      "text/html": [
       "<table><tr><th>BeerID</th><th>Name</th><th>URL</th><th>Style</th><th>StyleID</th><th>Size(L)</th><th>OG</th><th>FG</th><th>ABV</th><th>IBU</th><th>Color</th><th>BoilSize</th><th>BoilTime</th><th>BoilGravity</th><th>Efficiency</th><th>MashThickness</th><th>SugarScale</th><th>BrewMethod</th><th>PitchRate</th><th>PrimaryTemp</th><th>PrimingMethod</th><th>PrimingAmount</th><th>UserId</th></tr><tr><td>59</td><td>Bakke Brygg Imperial Stout 20 L</td><td>/homebrew/recipe/view/83233/bakke-brygg-imperial-stout-20-l</td><td>Russian Imperial Stout</td><td>132</td><td>20.0</td><td>1.098</td><td>1.025</td><td>9.67</td><td>69.25</td><td>50.0</td><td>24.0</td><td>90</td><td>1.082</td><td>65.0</td><td>N/A</td><td>Specific Gravity</td><td>All Grain</td><td>1</td><td>18</td><td>Sukkerlake</td><td>5 5 g sukker/L</td><td>18325</td></tr><tr><td>148</td><td>Speedway Stout Clone</td><td>/homebrew/recipe/view/215423/speedway-stout-clone</td><td>Russian Imperial Stout</td><td>132</td><td>14.2</td><td>1.124</td><td>1.024</td><td>13.24</td><td>69.09</td><td>40.0</td><td>23.66</td><td>90</td><td>1.075</td><td>80.1</td><td>1.5</td><td>Specific Gravity</td><td>All Grain</td><td>N/A</td><td>20</td><td>N/A</td><td>N/A</td><td>null</td></tr><tr><td>155</td><td>Hunahpu (clone)</td><td>/homebrew/recipe/view/106240/hunahpu-clone-</td><td>Russian Imperial Stout</td><td>132</td><td>22.71</td><td>1.13</td><td>1.036</td><td>12.35</td><td>114.57</td><td>40.0</td><td>34.07</td><td>180</td><td>1.086</td><td>80.0</td><td>1.25</td><td>Specific Gravity</td><td>All Grain</td><td>1</td><td>16.67</td><td>Corn sugar</td><td>2.5oz</td><td>null</td></tr><tr><td>186</td><td>Traditional German Gose</td><td>/homebrew/recipe/view/14429/traditional-german-gose</td><td>Gueuze</td><td>83</td><td>41.64</td><td>1.049</td><td>1.01</td><td>5.11</td><td>12.23</td><td>4.47</td><td>49.21</td><td>90</td><td>N/A</td><td>72.0</td><td>N/A</td><td>Specific Gravity</td><td>All Grain</td><td>N/A</td><td>N/A</td><td>N/A</td><td>N/A</td><td>380</td></tr><tr><td>190</td><td>Yeti Imperial Stout (Great Divide Clone)</td><td>/homebrew/recipe/view/239676/yeti-imperial-stout-great-divide-clone-</td><td>Russian Imperial Stout</td><td>132</td><td>20.82</td><td>1.09</td><td>1.019</td><td>9.26</td><td>88.9</td><td>50.0</td><td>24.61</td><td>60</td><td>1.076</td><td>70.0</td><td>1.3</td><td>Specific Gravity</td><td>All Grain</td><td>0.35</td><td>21.11</td><td>N/A</td><td>N/A</td><td>null</td></tr><tr><td>205</td><td>Chocolate Orange Stout</td><td>/homebrew/recipe/view/18841/chocolate-orange-stout</td><td>Russian Imperial Stout</td><td>132</td><td>22.71</td><td>1.096</td><td>1.027</td><td>9.18</td><td>35.95</td><td>29.92</td><td>28.39</td><td>60</td><td>N/A</td><td>70.0</td><td>N/A</td><td>Specific Gravity</td><td>All Grain</td><td>N/A</td><td>N/A</td><td>N/A</td><td>N/A</td><td>3750</td></tr><tr><td>275</td><td>Imperial Stout</td><td>/homebrew/recipe/view/18479/imperial-stout</td><td>Russian Imperial Stout</td><td>132</td><td>43.53</td><td>1.09</td><td>1.021</td><td>8.95</td><td>83.29</td><td>39.77</td><td>53.0</td><td>90</td><td>1.074</td><td>75.0</td><td>1.33</td><td>Specific Gravity</td><td>All Grain</td><td>1.25</td><td>17.78</td><td>N/A</td><td>N/A</td><td>2111</td></tr><tr><td>303</td><td>Dark Heart Root Beer</td><td>/homebrew/recipe/view/47893/dark-heart-root-beer</td><td>Russian Imperial Stout</td><td>132</td><td>20.82</td><td>1.101</td><td>1.025</td><td>9.9</td><td>60.65</td><td>40.0</td><td>28.39</td><td>60</td><td>N/A</td><td>75.0</td><td>N/A</td><td>Specific Gravity</td><td>All Grain</td><td>N/A</td><td>20</td><td>Corn Sugar</td><td>4 oz</td><td>null</td></tr><tr><td>335</td><td>Coffee Blackout Stout</td><td>/homebrew/recipe/view/11157/coffee-blackout-stout</td><td>Russian Imperial Stout</td><td>132</td><td>20.82</td><td>1.098</td><td>1.024</td><td>9.61</td><td>86.79</td><td>40.0</td><td>26.5</td><td>90</td><td>N/A</td><td>65.0</td><td>N/A</td><td>Specific Gravity</td><td>All Grain</td><td>N/A</td><td>N/A</td><td>Force Carb</td><td>N/A</td><td>955</td></tr><tr><td>340</td><td>Dark Lord clone</td><td>/homebrew/recipe/view/231334/dark-lord-clone</td><td>Russian Imperial Stout</td><td>132</td><td>41.64</td><td>1.136</td><td>1.031</td><td>13.69</td><td>79.54</td><td>50.0</td><td>58.67</td><td>120</td><td>1.096</td><td>70.0</td><td>1.5</td><td>Specific Gravity</td><td>All Grain</td><td>0.5</td><td>20</td><td>N/A</td><td>N/A</td><td>null</td></tr></table>"
      ]
     },
     "execution_count": 10,
     "metadata": {},
     "output_type": "execute_result"
    }
   ],
   "source": [
    "%%dataframe\n",
    "recipesWithGoodStyle"
   ]
  },
  {
   "cell_type": "code",
   "execution_count": 11,
   "metadata": {},
   "outputs": [
    {
     "data": {
      "text/plain": [
       "goodBeerCountByDegree = [beer_abv_rounded: double, count: bigint]\n"
      ]
     },
     "metadata": {},
     "output_type": "display_data",
     "source": "user"
    },
    {
     "data": {
      "text/plain": [
       "[beer_abv_rounded: double, count: bigint]"
      ]
     },
     "execution_count": 11,
     "metadata": {},
     "output_type": "execute_result"
    }
   ],
   "source": [
    "import org.apache.spark.sql.functions.round\n",
    "\n",
    "val goodBeerCountByDegree = goodBeers\n",
    "    .withColumn(\"beer_abv_rounded\", round($\"beer_abv\"))\n",
    "    .groupBy(\"beer_abv_rounded\")\n",
    "    .count().sort($\"count\".desc)"
   ]
  },
  {
   "cell_type": "code",
   "execution_count": 19,
   "metadata": {},
   "outputs": [
    {
     "name": "stdout",
     "output_type": "stream",
     "text": [
      "+----------------+-----+------+------------------+\n",
      "|beer_abv_rounded|count|total |percentage        |\n",
      "+----------------+-----+------+------------------+\n",
      "|29.0            |12   |16    |75.0              |\n",
      "|39.0            |6    |10    |60.0              |\n",
      "|21.0            |12   |22    |54.54545454545454 |\n",
      "|24.0            |8    |20    |40.0              |\n",
      "|26.0            |27   |74    |36.486486486486484|\n",
      "|27.0            |126  |355   |35.49295774647888 |\n",
      "|15.0            |1622 |5162  |31.421929484695855|\n",
      "|19.0            |57   |188   |30.319148936170215|\n",
      "|25.0            |9    |31    |29.03225806451613 |\n",
      "|13.0            |2671 |10358 |25.78683143463989 |\n",
      "|14.0            |998  |4357  |22.905669038329126|\n",
      "|11.0            |12496|63196 |19.773403379960758|\n",
      "|20.0            |10   |51    |19.607843137254903|\n",
      "|12.0            |5727 |29884 |19.164101191272923|\n",
      "|16.0            |187  |1033  |18.102613746369798|\n",
      "|41.0            |12   |76    |15.789473684210526|\n",
      "|22.0            |7    |45    |15.555555555555555|\n",
      "|18.0            |908  |6002  |15.128290569810062|\n",
      "|10.0            |18197|122032|14.91166251475023 |\n",
      "|17.0            |204  |1490  |13.691275167785236|\n",
      "|9.0             |16749|149925|11.171585792896447|\n",
      "|8.0             |17511|167597|10.44827771380156 |\n",
      "|7.0             |18352|220097|8.338141819288767 |\n",
      "|6.0             |13399|283890|4.719785832540773 |\n",
      "|2.0             |22   |478   |4.602510460251046 |\n",
      "|32.0            |4    |88    |4.545454545454546 |\n",
      "|5.0             |11087|377837|2.934334117622149 |\n",
      "|3.0             |145  |4963  |2.921619987910538 |\n",
      "|4.0             |1614 |68393 |2.3598906320822306|\n",
      "|0.0             |2    |244   |0.819672131147541 |\n",
      "|1.0             |6    |908   |0.6607929515418502|\n",
      "+----------------+-----+------+------------------+\n",
      "\n"
     ]
    },
    {
     "data": {
      "text/plain": [
       "countByDegree = [beer_abv_rounded: double, total: bigint]\n",
       "bestDegree = [beer_abv_rounded: double, count: bigint ... 2 more fields]\n"
      ]
     },
     "metadata": {},
     "output_type": "display_data",
     "source": "user"
    },
    {
     "data": {
      "text/plain": [
       "[beer_abv_rounded: double, count: bigint ... 2 more fields]"
      ]
     },
     "execution_count": 19,
     "metadata": {},
     "output_type": "execute_result"
    }
   ],
   "source": [
    "val countByDegree = reviews.withColumn(\"beer_abv_rounded\", round($\"beer_abv\")).groupBy(\"beer_abv_rounded\").count().withColumnRenamed(\"count\",\"total\")\n",
    "\n",
    "val bestDegree = goodBeerCountByDegree.join(countByDegree, \"beer_abv_rounded\")\n",
    "// or join(countByStyle, Seq(\"beer_style\"), \"inner\") possible join types: inner, outer, left_outer, right_outer, leftsemi\n",
    "    .withColumn(\"percentage\", goodBeerCountByDegree.col(\"count\") / countByDegree.col(\"total\")  * 100)\n",
    "    .sort($\"percentage\".desc)\n",
    "\n",
    "bestDegree.show(bestDegree.count().toInt, false)  // false, not truncate column name"
   ]
  },
  {
   "cell_type": "code",
   "execution_count": 21,
   "metadata": {},
   "outputs": [
    {
     "name": "stdout",
     "output_type": "stream",
     "text": [
      "+------+--------------------+--------------------+--------------------+-------+-------+-------+-------+-----+------+-----+--------+--------+-----------+----------+-------------+----------------+------------+---------+-----------+-------------+-------------+------+\n",
      "|BeerID|                Name|                 URL|               Style|StyleID|Size(L)|     OG|     FG|  ABV|   IBU|Color|BoilSize|BoilTime|BoilGravity|Efficiency|MashThickness|      SugarScale|  BrewMethod|PitchRate|PrimaryTemp|PrimingMethod|PrimingAmount|UserId|\n",
      "+------+--------------------+--------------------+--------------------+-------+-------+-------+-------+-----+------+-----+--------+--------+-----------+----------+-------------+----------------+------------+---------+-----------+-------------+-------------+------+\n",
      "| 31052|San Antonio Imper...|/homebrew/recipe/...|Russian Imperial ...|    132|   21.0|  1.351|  1.083| 35.1| 66.42|10.29|   100.0|      60|      1.074|      35.0|          N/A|Specific Gravity|Partial Mash|      N/A|         17|          N/A|          N/A|  null|\n",
      "|   499|Century  Russian ...|/homebrew/recipe/...|Russian Imperial ...|    132|  20.82|  1.169|  1.025|18.81|160.74| 40.0|   28.39|      90|      1.124|      80.0|          1.5|Specific Gravity|   All Grain|     1.25|         20|          N/A|          N/A|  null|\n",
      "|  3267|          Blood Ogre|/homebrew/recipe/...|Russian Imperial ...|    132|  18.93|  1.166|  1.025|18.52|  74.4| 50.0|    26.5|      70|      1.119|      70.0|          1.5|Specific Gravity|   All Grain|      0.5|      25.56|  Maple Syrup|          0.3| 49106|\n",
      "| 65126| Black Tokyo Horizon|/homebrew/recipe/...|Russian Imperial ...|    132|   24.0|  1.152|  1.019|17.46| 89.27| 50.0|    28.5|     120|      1.128|      70.0|            3|Specific Gravity|   All Grain|      1.5|         20|          N/A|          N/A|  null|\n",
      "| 67066|              Armata|/homebrew/recipe/...|Russian Imperial ...|    132|   9.46|  1.155|  1.022|17.44| 87.74| 50.0|   13.25|      60|      1.041|      60.0|          N/A|Specific Gravity|        BIAB|      0.5|        N/A|          N/A|          N/A|106291|\n",
      "| 19829|              R.I.S.|/homebrew/recipe/...|Russian Imperial ...|    132|  18.93|  1.147|  1.019|16.86| 79.82| 50.0|   28.39|      60|      1.098|      70.0|         1.25|Specific Gravity|   All Grain|     1.25|      17.78|          N/A|          N/A|  null|\n",
      "| 21934|Stu's Ultimate Ei...|/homebrew/recipe/...|             Eisbock|     62|  20.82|  1.171|  1.043|16.83| 59.61|18.97|   30.28|      90|      1.118|      85.0|          1.5|Specific Gravity|   All Grain|      N/A|        N/A|          N/A|          N/A|  null|\n",
      "| 51425|   Sword Fight Stout|/homebrew/recipe/...|Russian Imperial ...|    132|  20.82|   1.14|  1.033|16.75| 45.44| 50.0|   24.61|      30|      1.119|      65.0|          1.5|Specific Gravity|   All Grain|     1.25|         20|          N/A|          N/A| 96959|\n",
      "| 47930|Russian Imperial ...|/homebrew/recipe/...|Russian Imperial ...|    132|  20.82|  1.141|  1.021|15.71|329.01|40.38|   11.36|      60|      1.258|      65.0|          N/A|Specific Gravity|Partial Mash|      N/A|        N/A|          N/A|          N/A|  null|\n",
      "| 23621|      ImpeRyel Stout|/homebrew/recipe/...|Russian Imperial ...|    132|  18.93|  1.158|   1.04| 15.6| 99.47| 50.0|   18.93|      60|      1.158|      35.0|          N/A|Specific Gravity|     extract|      N/A|        N/A|          N/A|          N/A|  null|\n",
      "|  3063|DRIS - Double Rus...|/homebrew/recipe/...|Russian Imperial ...|    132|   3.79|  1.156|  1.039|15.39| 77.82|39.47|    5.68|      60|      1.104|      70.0|          1.5|Specific Gravity|   All Grain|      N/A|        N/A|          N/A|          N/A|  null|\n",
      "|  4195|Bryan Buono's Rec...|/homebrew/recipe/...|Russian Imperial ...|    132|  17.03|  1.155|  1.039|15.23|   0.0|87.37|   18.93|      60|        N/A|      75.0|          N/A|Specific Gravity|Partial Mash|      N/A|        N/A|          N/A|          N/A|  null|\n",
      "| 56936|     M�rketidslandet|/homebrew/recipe/...|Russian Imperial ...|    132|   21.0|  1.128|  1.013|15.07| 58.41|42.84|    28.5|      60|      1.088|      70.0|          N/A|Specific Gravity|        BIAB|      0.5|         19|          N/A|          N/A|  null|\n",
      "| 63467|              TOKYO*|/homebrew/recipe/...|Russian Imperial ...|    132|   20.0|32.2059|6.41436|15.04|187.24| 50.0|    29.0|      90|         23|      65.0|            2|           Plato|   All Grain|     1.25|         20|          N/A|          N/A|  null|\n",
      "| 13512|     Dark Lord clone|/homebrew/recipe/...|Russian Imperial ...|    132|  20.82|   1.17|  1.057|14.85|   0.0| 50.0|   32.18|      60|      1.096|      65.0|          1.5|Specific Gravity|   All Grain|     1.25|        N/A|          N/A|          N/A|  null|\n",
      "| 14333|Alexander the Ble...|/homebrew/recipe/...|Russian Imperial ...|    132|  18.93|  1.142|  1.031|14.59|106.77| 50.0|   24.61|      90|      1.109|      70.0|         1.25|Specific Gravity|   All Grain|        2|      18.33|          N/A|          N/A| 54678|\n",
      "| 64233| John Imperial Stout|/homebrew/recipe/...|Russian Imperial ...|    132|   20.0|   1.14|  1.029|14.49| 50.65| 50.0|    28.5|      90|      1.098|      65.0|         2.75|Specific Gravity|   All Grain|        1|         18|          N/A|          N/A|  null|\n",
      "| 12779|Barkafjellet Russ...|/homebrew/recipe/...|Russian Imperial ...|    132|    8.5|  1.136|  1.026|14.43| 98.06|48.07|     7.0|      60|       1.09|      35.0|          N/A|Specific Gravity|     extract|      N/A|         19|          N/A|          N/A|  null|\n",
      "| 11217|     Boris & Natasha|/homebrew/recipe/...|Russian Imperial ...|    132|  18.93|  1.143|  1.033|14.34| 104.0| 50.0|   28.39|      90|      1.095|      70.0|         1.25|Specific Gravity|   All Grain|      N/A|         20|          N/A|          N/A| 34210|\n",
      "| 10399|    The Tart Russian|/homebrew/recipe/...|Russian Imperial ...|    132|   21.0|  1.136|  1.027|14.27| 59.39| 50.0|    28.5|      90|       1.08|      75.0|          N/A|Specific Gravity|        BIAB|      0.5|        N/A|          N/A|          N/A|  null|\n",
      "+------+--------------------+--------------------+--------------------+-------+-------+-------+-------+-----+------+-----+--------+--------+-----------+----------+-------------+----------------+------------+---------+-----------+-------------+-------------+------+\n",
      "only showing top 20 rows\n",
      "\n"
     ]
    },
    {
     "data": {
      "text/plain": [
       "recipesWithGoodStyleAndAbv = [BeerID: int, Name: string ... 21 more fields]\n"
      ]
     },
     "metadata": {},
     "output_type": "display_data",
     "source": "user"
    },
    {
     "data": {
      "text/plain": [
       "[BeerID: int, Name: string ... 21 more fields]"
      ]
     },
     "execution_count": 21,
     "metadata": {},
     "output_type": "execute_result"
    }
   ],
   "source": [
    "val recipesWithGoodStyleAndAbv = recipesWithGoodStyle.filter($\"abv\" >= 13 && $\"abv\" <= 39).sort($\"abv\".desc)\n",
    "recipesWithGoodStyleAndAbv.show"
   ]
  },
  {
   "cell_type": "code",
   "execution_count": null,
   "metadata": {},
   "outputs": [],
   "source": []
  },
  {
   "cell_type": "code",
   "execution_count": 20,
   "metadata": {},
   "outputs": [
    {
     "name": "stdout",
     "output_type": "stream",
     "text": [
      "+------+--------------------+--------------------+--------------------+-------+-------+-------+-------+-----+------+-----+--------+--------+-----------+----------+-------------+----------------+------------+---------+-----------+-------------+-------------+------+\n",
      "|BeerID|                Name|                 URL|               Style|StyleID|Size(L)|     OG|     FG|  ABV|   IBU|Color|BoilSize|BoilTime|BoilGravity|Efficiency|MashThickness|      SugarScale|  BrewMethod|PitchRate|PrimaryTemp|PrimingMethod|PrimingAmount|UserId|\n",
      "+------+--------------------+--------------------+--------------------+-------+-------+-------+-------+-----+------+-----+--------+--------+-----------+----------+-------------+----------------+------------+---------+-----------+-------------+-------------+------+\n",
      "|   148|Speedway Stout Clone|/homebrew/recipe/...|Russian Imperial ...|    132|   14.2|  1.124|  1.024|13.24| 69.09| 40.0|   23.66|      90|      1.075|      80.1|          1.5|Specific Gravity|   All Grain|      N/A|         20|          N/A|          N/A|  null|\n",
      "|   340|     Dark Lord clone|/homebrew/recipe/...|Russian Imperial ...|    132|  41.64|  1.136|  1.031|13.69| 79.54| 50.0|   58.67|     120|      1.096|      70.0|          1.5|Specific Gravity|   All Grain|      0.5|         20|          N/A|          N/A|  null|\n",
      "|   499|Century  Russian ...|/homebrew/recipe/...|Russian Imperial ...|    132|  20.82|  1.169|  1.025|18.81|160.74| 40.0|   28.39|      90|      1.124|      80.0|          1.5|Specific Gravity|   All Grain|     1.25|         20|          N/A|          N/A|  null|\n",
      "|  1106|Udder Cream (Milk...|/homebrew/recipe/...|Russian Imperial ...|    132|  17.03|  1.142|  1.041|13.25|110.37| 40.0|   18.93|      60|        N/A|      70.0|          N/A|Specific Gravity|     extract|      N/A|        N/A|   Cane Sugar|     0.25 cup|  null|\n",
      "|  1315|Bourbon County St...|/homebrew/recipe/...|Russian Imperial ...|    132|  20.82|  1.127|  1.038|13.68| 76.62| 50.0|   37.85|     190|       1.07|      77.0|          1.5|Specific Gravity|   All Grain|     1.25|         20|   Force Carb|          N/A|  null|\n",
      "|  3063|DRIS - Double Rus...|/homebrew/recipe/...|Russian Imperial ...|    132|   3.79|  1.156|  1.039|15.39| 77.82|39.47|    5.68|      60|      1.104|      70.0|          1.5|Specific Gravity|   All Grain|      N/A|        N/A|          N/A|          N/A|  null|\n",
      "|  3267|          Blood Ogre|/homebrew/recipe/...|Russian Imperial ...|    132|  18.93|  1.166|  1.025|18.52|  74.4| 50.0|    26.5|      70|      1.119|      70.0|          1.5|Specific Gravity|   All Grain|      0.5|      25.56|  Maple Syrup|          0.3| 49106|\n",
      "|  4195|Bryan Buono's Rec...|/homebrew/recipe/...|Russian Imperial ...|    132|  17.03|  1.155|  1.039|15.23|   0.0|87.37|   18.93|      60|        N/A|      75.0|          N/A|Specific Gravity|Partial Mash|      N/A|        N/A|          N/A|          N/A|  null|\n",
      "|  4582|                 RIS|/homebrew/recipe/...|Russian Imperial ...|    132|   19.0|31.4072|8.54079|13.39| 78.63| 50.0|    23.0|      70|         25|      70.0|          N/A|           Plato|   All Grain|      N/A|        N/A|          N/A|          N/A|  null|\n",
      "|  6739|Century Russian I...|/homebrew/recipe/...|Russian Imperial ...|    132|  20.82|  1.124|  1.019|13.84|127.03|31.11|   28.39|      90|      1.091|      80.0|          1.5|Specific Gravity|   All Grain|     1.25|         20|          N/A|          N/A|  null|\n",
      "|  7542|Bourbon Barrel Stout|/homebrew/recipe/...|Russian Imperial ...|    132|  18.93|   1.13|  1.028| 13.3| 88.76| 50.0|   15.14|      60|      1.162|      70.0|          N/A|Specific Gravity|Partial Mash|      N/A|      23.33|          N/A|          N/A|  null|\n",
      "|  8076|   Imperial Stout #1|/homebrew/recipe/...|Russian Imperial ...|    132|  18.93|  1.117|  1.018|13.04| 93.95| 50.0|   20.82|      90|      1.106|      35.0|          N/A|Specific Gravity|     extract|      N/A|      21.11|          N/A|          N/A|  null|\n",
      "|  8131|           W00tstout|/homebrew/recipe/...|Russian Imperial ...|    132|  22.71|  1.107|  1.018| 13.0| 81.96|45.27|   33.01|      90|      1.074|      65.0|          N/A|Specific Gravity|        BIAB|      0.5|      18.89|          N/A|          N/A|  null|\n",
      "| 10399|    The Tart Russian|/homebrew/recipe/...|Russian Imperial ...|    132|   21.0|  1.136|  1.027|14.27| 59.39| 50.0|    28.5|      90|       1.08|      75.0|          N/A|Specific Gravity|        BIAB|      0.5|        N/A|          N/A|          N/A|  null|\n",
      "| 11217|     Boris & Natasha|/homebrew/recipe/...|Russian Imperial ...|    132|  18.93|  1.143|  1.033|14.34| 104.0| 50.0|   28.39|      90|      1.095|      70.0|         1.25|Specific Gravity|   All Grain|      N/A|         20|          N/A|          N/A| 34210|\n",
      "| 12779|Barkafjellet Russ...|/homebrew/recipe/...|Russian Imperial ...|    132|    8.5|  1.136|  1.026|14.43| 98.06|48.07|     7.0|      60|       1.09|      35.0|          N/A|Specific Gravity|     extract|      N/A|         19|          N/A|          N/A|  null|\n",
      "| 13512|     Dark Lord clone|/homebrew/recipe/...|Russian Imperial ...|    132|  20.82|   1.17|  1.057|14.85|   0.0| 50.0|   32.18|      60|      1.096|      65.0|          1.5|Specific Gravity|   All Grain|     1.25|        N/A|          N/A|          N/A|  null|\n",
      "| 13775|  Christmas in Miami|/homebrew/recipe/...|Russian Imperial ...|    132|  18.93|   1.14|  1.033|14.02| 47.52|37.15|   22.71|      90|      1.117|      70.0|          1.5|Specific Gravity|   All Grain|      N/A|         20|          N/A|          N/A|  null|\n",
      "| 14333|Alexander the Ble...|/homebrew/recipe/...|Russian Imperial ...|    132|  18.93|  1.142|  1.031|14.59|106.77| 50.0|   24.61|      90|      1.109|      70.0|         1.25|Specific Gravity|   All Grain|        2|      18.33|          N/A|          N/A| 54678|\n",
      "| 19829|              R.I.S.|/homebrew/recipe/...|Russian Imperial ...|    132|  18.93|  1.147|  1.019|16.86| 79.82| 50.0|   28.39|      60|      1.098|      70.0|         1.25|Specific Gravity|   All Grain|     1.25|      17.78|          N/A|          N/A|  null|\n",
      "| 21934|Stu's Ultimate Ei...|/homebrew/recipe/...|             Eisbock|     62|  20.82|  1.171|  1.043|16.83| 59.61|18.97|   30.28|      90|      1.118|      85.0|          1.5|Specific Gravity|   All Grain|      N/A|        N/A|          N/A|          N/A|  null|\n",
      "| 22727|Little Taste of H...|/homebrew/recipe/...|Russian Imperial ...|    132|  20.82|  1.118|  1.016|13.38|150.63| 50.0|   32.18|      75|      1.062|      66.0|          N/A|Specific Gravity|        BIAB|        1|      21.11|          N/A|          N/A| 72628|\n",
      "| 23621|      ImpeRyel Stout|/homebrew/recipe/...|Russian Imperial ...|    132|  18.93|  1.158|   1.04| 15.6| 99.47| 50.0|   18.93|      60|      1.158|      35.0|          N/A|Specific Gravity|     extract|      N/A|        N/A|          N/A|          N/A|  null|\n",
      "| 24315|Imperial Entangle...|/homebrew/recipe/...|Russian Imperial ...|    132|  11.36|  1.121|  1.022|13.08| 52.76| 50.0|   18.93|     120|       1.07|      67.0|          N/A|Specific Gravity|        BIAB|        1|      18.89|          N/A|          N/A|  null|\n",
      "| 27875|            Cold War|/homebrew/recipe/...|Russian Imperial ...|    132|  18.93|  1.138|  1.038|13.19|122.07| 50.0|   28.39|      90|      1.092|      70.0|          1.5|Specific Gravity|   All Grain|      0.5|         20|          N/A|          N/A|  null|\n",
      "| 30766|         Dumheter #4|/homebrew/recipe/...|Russian Imperial ...|    132|   20.0|  1.123|  1.016|13.98| 62.37| 50.0|    22.5|      90|      1.109|      70.0|            3|Specific Gravity|   All Grain|     0.35|         21|          N/A|          N/A|  null|\n",
      "| 31052|San Antonio Imper...|/homebrew/recipe/...|Russian Imperial ...|    132|   21.0|  1.351|  1.083| 35.1| 66.42|10.29|   100.0|      60|      1.074|      35.0|          N/A|Specific Gravity|Partial Mash|      N/A|         17|          N/A|          N/A|  null|\n",
      "| 38283|        Girth Brooks|/homebrew/recipe/...|Russian Imperial ...|    132|  24.61|  1.137|  1.048|13.89| 92.17| 50.0|   28.39|      60|      1.118|      65.0|          1.5|Specific Gravity|   All Grain|        1|      18.89|          N/A|          N/A|  null|\n",
      "| 38733|        Stout collab|/homebrew/recipe/...|Russian Imperial ...|    132|  37.85|  1.149|  1.041|14.21| 78.08| 50.0|   37.85|     240|      1.135|      80.0|          1.5|Specific Gravity|   All Grain|     1.25|      21.11|          N/A|          N/A|  null|\n",
      "| 47930|Russian Imperial ...|/homebrew/recipe/...|Russian Imperial ...|    132|  20.82|  1.141|  1.021|15.71|329.01|40.38|   11.36|      60|      1.258|      65.0|          N/A|Specific Gravity|Partial Mash|      N/A|        N/A|          N/A|          N/A|  null|\n",
      "| 48005|          BCBS Clone|/homebrew/recipe/...|Russian Imperial ...|    132|  20.82|  1.127|  1.023|13.73| 63.59| 50.0|   11.36|      60|      1.233|      65.0|          N/A|Specific Gravity|Partial Mash|      N/A|        N/A|          N/A|          N/A|  null|\n",
      "| 51187|     110th and Grand|/homebrew/recipe/...|Russian Imperial ...|    132|  18.93|  1.113|  1.023|13.36| 67.37| 50.0|   30.28|      90|      1.071|      75.0|         1.25|Specific Gravity|   All Grain|     1.25|         20|          Keg|          N/A|  null|\n",
      "| 51425|   Sword Fight Stout|/homebrew/recipe/...|Russian Imperial ...|    132|  20.82|   1.14|  1.033|16.75| 45.44| 50.0|   24.61|      30|      1.119|      65.0|          1.5|Specific Gravity|   All Grain|     1.25|         20|          N/A|          N/A| 96959|\n",
      "| 51668|      Awesome Recipe|/homebrew/recipe/...|Russian Imperial ...|    132|   21.0|  1.129|  1.024|13.72| 78.69|44.63|    28.5|      60|      1.095|      70.0|            3|Specific Gravity|   All Grain|      N/A|        N/A|          N/A|          N/A|  null|\n",
      "| 52746|26-ris (I miejsce...|/homebrew/recipe/...|Russian Imperial ...|    132|   13.0|32.5008| 8.8661|13.92|103.05| 50.0|    17.0|      60|       25.5|      60.0|            3|           Plato|   All Grain|      N/A|        N/A|          N/A|          N/A| 55744|\n",
      "| 56936|     M�rketidslandet|/homebrew/recipe/...|Russian Imperial ...|    132|   21.0|  1.128|  1.013|15.07| 58.41|42.84|    28.5|      60|      1.088|      70.0|          N/A|Specific Gravity|        BIAB|      0.5|         19|          N/A|          N/A|  null|\n",
      "| 60222|    Imperial Pilsner|/homebrew/recipe/...|             Eisbock|     62|   48.0|  1.121|  1.018|13.54| 55.19| 7.05|    53.0|      60|      1.109|      68.0|          N/A|Specific Gravity|Partial Mash|     1.25|         29|          N/A|          N/A|  null|\n",
      "| 63467|              TOKYO*|/homebrew/recipe/...|Russian Imperial ...|    132|   20.0|32.2059|6.41436|15.04|187.24| 50.0|    29.0|      90|         23|      65.0|            2|           Plato|   All Grain|     1.25|         20|          N/A|          N/A|  null|\n",
      "| 64233| John Imperial Stout|/homebrew/recipe/...|Russian Imperial ...|    132|   20.0|   1.14|  1.029|14.49| 50.65| 50.0|    28.5|      90|      1.098|      65.0|         2.75|Specific Gravity|   All Grain|        1|         18|          N/A|          N/A|  null|\n",
      "| 65126| Black Tokyo Horizon|/homebrew/recipe/...|Russian Imperial ...|    132|   24.0|  1.152|  1.019|17.46| 89.27| 50.0|    28.5|     120|      1.128|      70.0|            3|Specific Gravity|   All Grain|      1.5|         20|          N/A|          N/A|  null|\n",
      "| 65746|     Dark Lord Clone|/homebrew/recipe/...|Russian Imperial ...|    132|  20.82|   1.13|  1.022|14.16| 50.87| 50.0|   25.55|      60|      1.106|      75.0|          1.2|Specific Gravity|   All Grain|     1.25|      18.33|          N/A|          N/A|  null|\n",
      "| 67066|              Armata|/homebrew/recipe/...|Russian Imperial ...|    132|   9.46|  1.155|  1.022|17.44| 87.74| 50.0|   13.25|      60|      1.041|      60.0|          N/A|Specific Gravity|        BIAB|      0.5|        N/A|          N/A|          N/A|106291|\n",
      "+------+--------------------+--------------------+--------------------+-------+-------+-------+-------+-----+------+-----+--------+--------+-----------+----------+-------------+----------------+------------+---------+-----------+-------------+-------------+------+\n",
      "\n"
     ]
    }
   ],
   "source": [
    "recipesWithGoodStyleAndAbv.show(recipesWithGoodStyleAndAbv.count.toInt, true)"
   ]
  }
 ],
 "metadata": {
  "kernelspec": {
   "display_name": "Apache Toree - Scala",
   "language": "scala",
   "name": "apache_toree_scala"
  },
  "language_info": {
   "codemirror_mode": "text/x-scala",
   "file_extension": ".scala",
   "mimetype": "text/x-scala",
   "name": "scala",
   "pygments_lexer": "scala",
   "version": "2.11.12"
  }
 },
 "nbformat": 4,
 "nbformat_minor": 2
}
