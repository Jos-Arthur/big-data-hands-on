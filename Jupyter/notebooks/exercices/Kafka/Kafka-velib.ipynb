{
 "cells": [
  {
   "cell_type": "markdown",
   "metadata": {},
   "source": [
    "# Velib"
   ]
  },
  {
   "cell_type": "markdown",
   "metadata": {},
   "source": [
    "## Config"
   ]
  },
  {
   "cell_type": "code",
   "execution_count": 1,
   "metadata": {},
   "outputs": [],
   "source": [
    "API_KEY = \"a44bff4661b1435a625ea7b661a3f6410386bcf3\"\n",
    "BOOTSTRAP_SERVERS = 'localhost:9092'\n",
    "# For several servers\n",
    "#BOOTSTRAP_SERVERS = ['localhost:9092', 'localhost:9093']"
   ]
  },
  {
   "cell_type": "markdown",
   "metadata": {},
   "source": [
    "## Install package `kafka-python`"
   ]
  },
  {
   "cell_type": "code",
   "execution_count": 2,
   "metadata": {},
   "outputs": [
    {
     "name": "stdout",
     "output_type": "stream",
     "text": [
      "Solving environment: done\n",
      "\n",
      "\n",
      "==> WARNING: A newer version of conda exists. <==\n",
      "  current version: 4.5.12\n",
      "  latest version: 4.6.1\n",
      "\n",
      "Please update conda by running\n",
      "\n",
      "    $ conda update -n base conda\n",
      "\n",
      "\n",
      "\n",
      "## Package Plan ##\n",
      "\n",
      "  environment location: /opt/conda\n",
      "\n",
      "  added / updated specs: \n",
      "    - kafka-python\n",
      "\n",
      "\n",
      "The following packages will be downloaded:\n",
      "\n",
      "    package                    |            build\n",
      "    ---------------------------|-----------------\n",
      "    gsl-2.4                    |blas_openblash5c7cb9b_1004         2.5 MB  conda-forge\n",
      "    libgcc-ng-7.3.0            |       hdf63c60_0         6.1 MB  conda-forge\n",
      "    gfortran_linux-64-7.3.0    |       h553295d_3           9 KB  conda-forge\n",
      "    pycurl-7.43.0.2            |   py36h1ba5d50_0         185 KB  defaults\n",
      "    xorg-libsm-1.2.2           |       h470a237_5          24 KB  conda-forge\n",
      "    kafka-python-1.4.4         |             py_0         166 KB  conda-forge\n",
      "    gxx_impl_linux-64-7.3.0    |       hdf63c60_1        18.7 MB  conda-forge\n",
      "    r-openssl-1.0.2            |   r351h96ca727_1         1.1 MB  defaults\n",
      "    pcre-8.42                  |       h439df22_0         251 KB  defaults\n",
      "    libevent-2.1.8             |       h1ba5d50_0         1.2 MB  defaults\n",
      "    thrift-cpp-0.11.0          |       h02b749d_3         2.3 MB  defaults\n",
      "    binutils_linux-64-2.31.1   |       h6176602_3           9 KB  conda-forge\n",
      "    cairo-1.14.12              |       h8948797_3         1.3 MB  defaults\n",
      "    openssl-1.1.1a             |    h14c3975_1000         4.0 MB  conda-forge\n",
      "    libuuid-1.0.3              |                1          34 KB  conda-forge\n",
      "    pango-1.42.4               |       h049681c_0         528 KB  defaults\n",
      "    gfortran_impl_linux-64-7.3.0|       hdf63c60_1         9.0 MB  conda-forge\n",
      "    curl-7.63.0                |    hbc83047_1000         145 KB  defaults\n",
      "    cryptography-2.4.2         |   py36h1ba5d50_0         618 KB  defaults\n",
      "    gcc_impl_linux-64-7.3.0    |       habb00fd_1        73.2 MB  conda-forge\n",
      "    fribidi-1.0.5              |    h14c3975_1000         111 KB  conda-forge\n",
      "    fontconfig-2.13.0          |       h9420a91_0         291 KB  defaults\n",
      "    gxx_linux-64-7.3.0         |       h553295d_3           9 KB  conda-forge\n",
      "    binutils_impl_linux-64-2.31.1|       h6176602_1        16.5 MB  conda-forge\n",
      "    r-base-3.5.1               |       h1e0a451_2        39.8 MB  defaults\n",
      "    python-3.6.8               |       h0371630_0        34.4 MB  defaults\n",
      "    libssh2-1.8.0              |                1         239 KB  conda-forge\n",
      "    libgfortran-ng-7.3.0       |       hdf63c60_0         1.3 MB  defaults\n",
      "    gcc_linux-64-7.3.0         |       h553295d_3          10 KB  conda-forge\n",
      "    krb5-1.16.1                |       h173b8e3_7         1.4 MB  defaults\n",
      "    libcurl-7.63.0             |    h20c2e04_1000         550 KB  defaults\n",
      "    libstdcxx-ng-7.3.0         |       hdf63c60_0         2.6 MB  conda-forge\n",
      "    ------------------------------------------------------------\n",
      "                                           Total:       218.4 MB\n",
      "\n",
      "The following NEW packages will be INSTALLED:\n",
      "\n",
      "    binutils_impl_linux-64: 2.31.1-h6176602_1             conda-forge\n",
      "    binutils_linux-64:      2.31.1-h6176602_3             conda-forge\n",
      "    fribidi:                1.0.5-h14c3975_1000           conda-forge\n",
      "    gcc_impl_linux-64:      7.3.0-habb00fd_1              conda-forge\n",
      "    gcc_linux-64:           7.3.0-h553295d_3              conda-forge\n",
      "    gfortran_impl_linux-64: 7.3.0-hdf63c60_1              conda-forge\n",
      "    gfortran_linux-64:      7.3.0-h553295d_3              conda-forge\n",
      "    gxx_impl_linux-64:      7.3.0-hdf63c60_1              conda-forge\n",
      "    gxx_linux-64:           7.3.0-h553295d_3              conda-forge\n",
      "    kafka-python:           1.4.4-py_0                    conda-forge\n",
      "    libevent:               2.1.8-h1ba5d50_0              defaults   \n",
      "    libgfortran-ng:         7.3.0-hdf63c60_0              defaults   \n",
      "\n",
      "The following packages will be UPDATED:\n",
      "\n",
      "    cryptography:           2.3.1-py36hdffb7b8_0          conda-forge --> 2.4.2-py36h1ba5d50_0           defaults   \n",
      "    curl:                   7.63.0-h74213dd_0             conda-forge --> 7.63.0-hbc83047_1000           defaults   \n",
      "    gsl:                    2.2.1-blas_openblashddceaf2_6 conda-forge [blas_openblas] --> 2.4-blas_openblash5c7cb9b_1004 conda-forge [blas_openblas]\n",
      "    libcurl:                7.63.0-hbdb9355_0             conda-forge --> 7.63.0-h20c2e04_1000           defaults   \n",
      "    libgcc-ng:              7.2.0-hdf63c60_3              conda-forge --> 7.3.0-hdf63c60_0               conda-forge\n",
      "    libstdcxx-ng:           7.2.0-hdf63c60_3              conda-forge --> 7.3.0-hdf63c60_0               conda-forge\n",
      "    openssl:                1.0.2p-h470a237_2             conda-forge --> 1.1.1a-h14c3975_1000           conda-forge\n",
      "    pango:                  1.40.14-he752989_2            conda-forge --> 1.42.4-h049681c_0              defaults   \n",
      "    pcre:                   8.41-hfc679d8_3               conda-forge --> 8.42-h439df22_0                defaults   \n",
      "    pycurl:                 7.43.0.2-py36hb7f436b_0       defaults    --> 7.43.0.2-py36h1ba5d50_0        defaults   \n",
      "    python:                 3.6.7-h5001a0f_1              conda-forge --> 3.6.8-h0371630_0               defaults   \n",
      "    thrift-cpp:             0.11.0-he11dc3d_3             conda-forge --> 0.11.0-h02b749d_3              defaults   \n",
      "\n",
      "The following packages will be DOWNGRADED:\n",
      "\n",
      "    cairo:                  1.14.12-h276e583_5            conda-forge --> 1.14.12-h8948797_3             defaults   \n",
      "    fontconfig:             2.13.1-h65d0f4c_0             conda-forge --> 2.13.0-h9420a91_0              defaults   \n",
      "    krb5:                   1.16.2-hbb41f41_0             conda-forge --> 1.16.1-h173b8e3_7              defaults   \n",
      "    libssh2:                1.8.0-h5b517e9_3              conda-forge --> 1.8.0-1                        conda-forge\n",
      "    libuuid:                2.32.1-h470a237_2             conda-forge --> 1.0.3-1                        conda-forge\n",
      "    r-base:                 3.5.1-h391c2eb_5              conda-forge --> 3.5.1-h1e0a451_2               defaults   \n",
      "    r-openssl:              1.1-r351h9f97512_0            conda-forge --> 1.0.2-r351h96ca727_1           defaults   \n",
      "    xorg-libsm:             1.2.3-h8c8a85c_0              conda-forge --> 1.2.2-h470a237_5               conda-forge\n",
      "\n",
      "\n",
      "Downloading and Extracting Packages\n",
      "gsl-2.4              | 2.5 MB    | ##################################### | 100% \n",
      "libgcc-ng-7.3.0      | 6.1 MB    | ##################################### | 100% \n",
      "gfortran_linux-64-7. | 9 KB      | ##################################### | 100% \n",
      "pycurl-7.43.0.2      | 185 KB    | ##################################### | 100% \n",
      "xorg-libsm-1.2.2     | 24 KB     | ##################################### | 100% \n",
      "kafka-python-1.4.4   | 166 KB    | ##################################### | 100% \n",
      "gxx_impl_linux-64-7. | 18.7 MB   | ##################################### | 100% \n",
      "r-openssl-1.0.2      | 1.1 MB    | ##################################### | 100% \n",
      "pcre-8.42            | 251 KB    | ##################################### | 100% \n",
      "libevent-2.1.8       | 1.2 MB    | ##################################### | 100% \n",
      "thrift-cpp-0.11.0    | 2.3 MB    | ##################################### | 100% \n",
      "binutils_linux-64-2. | 9 KB      | ##################################### | 100% \n",
      "cairo-1.14.12        | 1.3 MB    | ##################################### | 100% \n",
      "openssl-1.1.1a       | 4.0 MB    | ##################################### | 100% \n",
      "libuuid-1.0.3        | 34 KB     | ##################################### | 100% \n",
      "pango-1.42.4         | 528 KB    | ##################################### | 100% \n",
      "gfortran_impl_linux- | 9.0 MB    | ##################################### | 100% \n",
      "curl-7.63.0          | 145 KB    | ##################################### | 100% \n",
      "cryptography-2.4.2   | 618 KB    | ##################################### | 100% \n",
      "gcc_impl_linux-64-7. | 73.2 MB   | ##################################### | 100% \n",
      "fribidi-1.0.5        | 111 KB    | ##################################### | 100% \n",
      "fontconfig-2.13.0    | 291 KB    | ##################################### | 100% \n",
      "gxx_linux-64-7.3.0   | 9 KB      | ##################################### | 100% \n",
      "binutils_impl_linux- | 16.5 MB   | ##################################### | 100% \n",
      "r-base-3.5.1         | 39.8 MB   | ##################################### | 100% \n",
      "python-3.6.8         | 34.4 MB   | ##################################### | 100% \n",
      "libssh2-1.8.0        | 239 KB    | ##################################### | 100% \n",
      "libgfortran-ng-7.3.0 | 1.3 MB    | ##################################### | 100% \n",
      "gcc_linux-64-7.3.0   | 10 KB     | ##################################### | 100% \n",
      "krb5-1.16.1          | 1.4 MB    | ##################################### | 100% \n",
      "libcurl-7.63.0       | 550 KB    | ##################################### | 100% \n",
      "libstdcxx-ng-7.3.0   | 2.6 MB    | ##################################### | 100% \n",
      "Preparing transaction: done\n",
      "Verifying transaction: done\n",
      "Executing transaction: done\n"
     ]
    }
   ],
   "source": [
    "import sys\n",
    "!conda install --yes --prefix {sys.prefix} kafka-python\n",
    "\n",
    "# Or via pip\n",
    "#import sys\n",
    "#!{sys.executable} -m pip install kafka-python"
   ]
  },
  {
   "cell_type": "markdown",
   "metadata": {},
   "source": [
    "## Kafka Producer (velib-get-stations.py)"
   ]
  },
  {
   "cell_type": "code",
   "execution_count": 7,
   "metadata": {},
   "outputs": [
    {
     "name": "stdout",
     "output_type": "stream",
     "text": [
      "1548861679.790327 Produced 2550 station records\n",
      "1548861682.3572083 Produced 2550 station records\n",
      "1548861685.1278825 Produced 2550 station records\n",
      "1548861687.9457362 Produced 2550 station records\n",
      "1548861690.5463557 Produced 2550 station records\n",
      "1548861693.1583445 Produced 2550 station records\n",
      "1548861695.9666407 Produced 2550 station records\n",
      "1548861698.5614603 Produced 2550 station records\n",
      "1548861701.4568229 Produced 2550 station records\n",
      "1548861704.0445135 Produced 2550 station records\n",
      "1548861706.7118747 Produced 2550 station records\n",
      "1548861709.3782177 Produced 2550 station records\n",
      "1548861712.1387393 Produced 2550 station records\n",
      "1548861714.850036 Produced 2550 station records\n",
      "1548861717.5447726 Produced 2550 station records\n",
      "1548861720.0994985 Produced 2550 station records\n",
      "1548861722.6562173 Produced 2550 station records\n",
      "1548861725.419466 Produced 2550 station records\n",
      "1548861727.9179971 Produced 2550 station records\n",
      "1548861730.8366015 Produced 2550 station records\n",
      "1548861733.5093045 Produced 2550 station records\n",
      "1548861736.2091131 Produced 2550 station records\n",
      "1548861738.8750346 Produced 2550 station records\n",
      "1548861741.593014 Produced 2550 station records\n",
      "1548861744.5916197 Produced 2550 station records\n",
      "1548861746.923936 Produced 2550 station records\n",
      "1548861749.5341322 Produced 2550 station records\n",
      "1548861752.2245102 Produced 2550 station records\n"
     ]
    },
    {
     "ename": "KeyboardInterrupt",
     "evalue": "",
     "output_type": "error",
     "traceback": [
      "\u001b[0;31m---------------------------------------------------------------------------\u001b[0m",
      "\u001b[0;31mKeyboardInterrupt\u001b[0m                         Traceback (most recent call last)",
      "\u001b[0;32m<ipython-input-7-35dbdc05e4d3>\u001b[0m in \u001b[0;36m<module>\u001b[0;34m\u001b[0m\n\u001b[1;32m     17\u001b[0m                 key=str(station[\"number\"]).encode()) # dispatch each stations always on same partition\n\u001b[1;32m     18\u001b[0m     \u001b[0mprint\u001b[0m\u001b[0;34m(\u001b[0m\u001b[0;34m\"{} Produced {} station records\"\u001b[0m\u001b[0;34m.\u001b[0m\u001b[0mformat\u001b[0m\u001b[0;34m(\u001b[0m\u001b[0mtime\u001b[0m\u001b[0;34m.\u001b[0m\u001b[0mtime\u001b[0m\u001b[0;34m(\u001b[0m\u001b[0;34m)\u001b[0m\u001b[0;34m,\u001b[0m \u001b[0mlen\u001b[0m\u001b[0;34m(\u001b[0m\u001b[0mstations\u001b[0m\u001b[0;34m)\u001b[0m\u001b[0;34m)\u001b[0m\u001b[0;34m)\u001b[0m\u001b[0;34m\u001b[0m\u001b[0;34m\u001b[0m\u001b[0m\n\u001b[0;32m---> 19\u001b[0;31m     \u001b[0mtime\u001b[0m\u001b[0;34m.\u001b[0m\u001b[0msleep\u001b[0m\u001b[0;34m(\u001b[0m\u001b[0;36m1\u001b[0m\u001b[0;34m)\u001b[0m\u001b[0;34m\u001b[0m\u001b[0;34m\u001b[0m\u001b[0m\n\u001b[0m",
      "\u001b[0;31mKeyboardInterrupt\u001b[0m: "
     ]
    }
   ],
   "source": [
    "import json\n",
    "import time\n",
    "import urllib.request\n",
    "\n",
    "from kafka import KafkaProducer\n",
    "\n",
    "#API_KEY = \"XXX\" # FIXME Set your own API key here\n",
    "API_KEY = \"a44bff4661b1435a625ea7b661a3f6410386bcf3\"\n",
    "url = \"https://api.jcdecaux.com/vls/v1/stations?apiKey={}\".format(API_KEY)\n",
    "producer = KafkaProducer(bootstrap_servers='kafka:9092')\n",
    "\n",
    "while True:\n",
    "    response = urllib.request.urlopen(url)\n",
    "    stations = json.loads(response.read().decode())\n",
    "    for station in stations:\n",
    "        producer.send(\"velib-stations\", json.dumps(station).encode(),\n",
    "                key=str(station[\"number\"]).encode()) # dispatch each stations always on same partition\n",
    "    print(\"{} Produced {} station records\".format(time.time(), len(stations)))\n",
    "    time.sleep(1)"
   ]
  },
  {
   "cell_type": "markdown",
   "metadata": {},
   "source": [
    "## Kafka Broker"
   ]
  },
  {
   "cell_type": "code",
   "execution_count": null,
   "metadata": {},
   "outputs": [],
   "source": [
    "%%bash\n",
    "./bin/zookeeper-server-start.sh ./config/zookeeper.properties\n",
    "./bin/kafka-server-start.sh ./config/server.properties\n",
    "./bin/kafka-topics.sh --create --zookeeper localhost:2181 --replication-factor 1 --partitions 1 --topic velib-stations"
   ]
  },
  {
   "cell_type": "markdown",
   "metadata": {},
   "source": [
    "## Kafka Consumer (velib-monitor-stations.py)"
   ]
  },
  {
   "cell_type": "code",
   "execution_count": null,
   "metadata": {},
   "outputs": [],
   "source": [
    "import json\n",
    "from kafka import KafkaConsumer\n",
    "\n",
    "stations = {}\n",
    "consumer = KafkaConsumer(\"velib-stations\", bootstrap_servers=BOOTSTRAP_SERVERS, group_id=\"velib-monitor-stations\")\n",
    "\n",
    "for message in consumer:\n",
    "    station = json.loads(message.value.decode())\n",
    "    station_number = station[\"number\"]\n",
    "    contract = station[\"contract_name\"]\n",
    "    available_bike_stands = station[\"available_bike_stands\"]\n",
    "\n",
    "    if contract not in stations:\n",
    "        stations[contract] = {}\n",
    "\n",
    "    city_stations = stations[contract]\n",
    "\n",
    "    if station_number not in city_stations:\n",
    "        city_stations[station_number] = available_bike_stands\n",
    "\n",
    "    count_diff = available_bike_stands - city_stations[station_number]\n",
    "\n",
    "    if count_diff != 0:\n",
    "        city_stations[station_number] = available_bike_stands\n",
    "        print(\"{}{} {} ({})\".format(\n",
    "            \"+\" if count_diff > 0 else \"\",\n",
    "            count_diff, station[\"address\"], contract\n",
    "        ))"
   ]
  },
  {
   "cell_type": "markdown",
   "metadata": {},
   "source": [
    "## Modification de la durée de conservation des messages dans Kafka"
   ]
  },
  {
   "cell_type": "markdown",
   "metadata": {},
   "source": [
    "Suppression d'un segment toutes les 4 secondes"
   ]
  },
  {
   "cell_type": "code",
   "execution_count": null,
   "metadata": {},
   "outputs": [],
   "source": [
    "! ./bin/kafka-configs.sh --zookeeper localhost:2181 --entity-type topics --entity-name velib-stations --alter --add-config retention.ms=4000"
   ]
  },
  {
   "cell_type": "markdown",
   "metadata": {},
   "source": [
    "Modification de la longueur d'un segment"
   ]
  },
  {
   "cell_type": "code",
   "execution_count": null,
   "metadata": {},
   "outputs": [],
   "source": [
    "! ./bin/kafka-configs.sh --zookeeper localhost:2181 --entity-type topics --entity-name velib-stations --alter --add-config segment.ms=2000"
   ]
  }
 ],
 "metadata": {
  "kernelspec": {
   "display_name": "Python 3",
   "language": "python",
   "name": "python3"
  },
  "language_info": {
   "codemirror_mode": {
    "name": "ipython",
    "version": 3
   },
   "file_extension": ".py",
   "mimetype": "text/x-python",
   "name": "python",
   "nbconvert_exporter": "python",
   "pygments_lexer": "ipython3",
   "version": "3.6.8"
  }
 },
 "nbformat": 4,
 "nbformat_minor": 2
}
