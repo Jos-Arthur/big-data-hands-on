{
 "cells": [
  {
   "cell_type": "markdown",
   "metadata": {},
   "source": [
    "# Contrôler Docker depuis un container (Jupyter) #"
   ]
  },
  {
   "cell_type": "markdown",
   "metadata": {},
   "source": [
    "## Installation de docker dans le container ##"
   ]
  },
  {
   "cell_type": "markdown",
   "metadata": {},
   "source": [
    "Des droits root, sont nécessaires pour installer docker. Depuis l'hôte, exécuter la commande suivante :"
   ]
  },
  {
   "cell_type": "markdown",
   "metadata": {},
   "source": [
    "```bash\n",
    "docker exec -it -u 0 jupyter sh -c \"echo 'jovyan ALL=(ALL) NOPASSWD:ALL' >> /etc/sudoers\"\n",
    "```"
   ]
  },
  {
   "cell_type": "markdown",
   "metadata": {},
   "source": [
    "NOTES :\n",
    "- Ici, `jovyan` est l'utilisateur par défaut, de l'image officielle Jupyter.\n",
    "- Alternativement, le conteneur peut être démarré avec la variable d'environnement `GRANT_SUDO=yes`."
   ]
  },
  {
   "cell_type": "markdown",
   "metadata": {},
   "source": [
    "Procéder à l'installation"
   ]
  },
  {
   "cell_type": "code",
   "execution_count": null,
   "metadata": {},
   "outputs": [],
   "source": [
    "%%bash\n",
    "curl -fsSL https://get.docker.com |sudo sh -\n",
    "sudo usermod -aG docker jovyan"
   ]
  },
  {
   "cell_type": "markdown",
   "metadata": {},
   "source": [
    "## Connection au docker de l'hôte ##"
   ]
  },
  {
   "cell_type": "markdown",
   "metadata": {},
   "source": [
    "### Sous Linux : via les volumes ###"
   ]
  },
  {
   "cell_type": "markdown",
   "metadata": {},
   "source": [
    "Il faut monter le socket docker de l'hôte dans le conteneur.\n",
    "Pour cela utiliser le jupyter-linux.yml au lieu du jupyter.yml.\n",
    "\n",
    "Le fichier contient lesa lignes suivantes :\n",
    "```\n",
    "...\n",
    "  volumes:\n",
    "    - /var/run/docker.sock:/var/run/docker.sock\n",
    "...\n",
    "```"
   ]
  },
  {
   "cell_type": "markdown",
   "metadata": {},
   "source": [
    "### Sous Windows ou MacOS : via TCP ###"
   ]
  },
  {
   "cell_type": "markdown",
   "metadata": {},
   "source": [
    "#### Configuration de l'hôte ####\n",
    "Aller dans *Setting > General* et cocher *Expose daemon on tcp:...*        "
   ]
  },
  {
   "cell_type": "markdown",
   "metadata": {},
   "source": [
    "#### Configuration du conteneur ####"
   ]
  },
  {
   "cell_type": "markdown",
   "metadata": {},
   "source": [
    "##### Accès depuis le noteook #####"
   ]
  },
  {
   "cell_type": "markdown",
   "metadata": {},
   "source": [
    "Exécuter la ligne suivante pour dans chaque notebook où l'on accède à docker :"
   ]
  },
  {
   "cell_type": "code",
   "execution_count": null,
   "metadata": {},
   "outputs": [],
   "source": [
    "%env DOCKER_HOST=tcp://host.docker.internal:2375"
   ]
  },
  {
   "cell_type": "code",
   "execution_count": null,
   "metadata": {},
   "outputs": [],
   "source": [
    "! docker ps"
   ]
  },
  {
   "cell_type": "markdown",
   "metadata": {},
   "source": [
    "##### Accès depuis un terminal #####"
   ]
  },
  {
   "cell_type": "code",
   "execution_count": null,
   "metadata": {},
   "outputs": [],
   "source": [
    "%%bash\n",
    "IP_HOST=\"host.docker.internal\"\n",
    "echo \"export DOCKER_HOST=\\\"tcp://host.docker.internal:2375\\\"\" >> ~/.bashrc && source ~/.bashrc"
   ]
  },
  {
   "cell_type": "markdown",
   "metadata": {},
   "source": [
    "## Installation de docker-compose ##"
   ]
  },
  {
   "cell_type": "code",
   "execution_count": null,
   "metadata": {},
   "outputs": [],
   "source": [
    "compose_ver=$(curl --silent \"https://api.github.com/repos/docker/compose/releases/latest\" | grep tag_name | sed \"s/ *\\\"tag_name\\\": *\\\"\\\\(.*\\\\)\\\",*/\\\\1/\")\n",
    "sudo curl -L \"https://github.com/docker/compose/releases/download/$compose_ver/docker-compose-$(uname -s)-$(uname -m)\" -o /usr/local/bin/docker-compose\n",
    "sudo chmod +x /usr/local/bin/docker-compose\n",
    "docker-compose -v"
   ]
  },
  {
   "cell_type": "markdown",
   "metadata": {},
   "source": [
    "## Suppression de l'utilisateur 'jovyan' des sudoers ##\n",
    "\n",
    "Cette étape est optionelle, et ne concerne que l'ajout via la commande `docker exec` préconisée plus haut"
   ]
  },
  {
   "cell_type": "code",
   "execution_count": null,
   "metadata": {},
   "outputs": [],
   "source": [
    "! sudo head -n -1 /etc/sudoers > tmp;sudo mv tmp /etc/sudoers"
   ]
  }
 ],
 "metadata": {
  "kernelspec": {
   "display_name": "Python 3",
   "language": "python",
   "name": "python3"
  },
  "language_info": {
   "codemirror_mode": {
    "name": "ipython",
    "version": 3
   },
   "file_extension": ".py",
   "mimetype": "text/x-python",
   "name": "python",
   "nbconvert_exporter": "python",
   "pygments_lexer": "ipython3",
   "version": "3.6.8"
  }
 },
 "nbformat": 4,
 "nbformat_minor": 2
}
