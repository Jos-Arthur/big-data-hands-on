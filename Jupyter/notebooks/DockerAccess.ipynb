{
 "cells": [
  {
   "cell_type": "markdown",
   "metadata": {},
   "source": [
    "# Contrôler Docker depuis un container (Jupyter) #"
   ]
  },
  {
   "cell_type": "markdown",
   "metadata": {},
   "source": [
    "## Installation de docker dans le container ##"
   ]
  },
  {
   "cell_type": "markdown",
   "metadata": {},
   "source": [
    "## Installer docker despuis l'hote ##\n",
    "On se connecte en root au conteneur, et on install docker\n",
    "```\n",
    "docker exec -it -u 0 jupyter bash\n",
    "curl -fsSL https://get.docker.com |sh -\n",
    "usermod -aG docker jovyan\n",
    "```\n",
    "NOTE: Ici, `jovyan` est l'utilisateur par défaut, de l'image officielle Jupyter."
   ]
  },
  {
   "cell_type": "markdown",
   "metadata": {},
   "source": [
    "## Installer docker depuis ce notebook ##\n",
    "\n",
    "Pour installer docker depuis le notebook, il faut que l'utilisateur (`jovyan`) est la capacité d'utiliser `sudo` sans mot de passe.\n",
    "Pour cela le conteneur doit être démarré avec la variable d'environnement `GRANT_SUDO=yes`."
   ]
  },
  {
   "cell_type": "code",
   "execution_count": null,
   "metadata": {},
   "outputs": [],
   "source": [
    "%%bash\n",
    "curl -fsSL https://get.docker.com |sudo sh -\n",
    "sudo usermod -aG docker jovyan"
   ]
  },
  {
   "cell_type": "markdown",
   "metadata": {},
   "source": [
    "## Connection au docker de l'hôte ##"
   ]
  },
  {
   "cell_type": "markdown",
   "metadata": {},
   "source": [
    "### Configuration de l'hôte ###\n",
    "- Windows : Setting > General > cocher *Expose daemon on tcp:...*\n",
    "- Linux : démarrer le daemon avec `-H fd:// -H tcp://0.0.0.0:2376`        "
   ]
  },
  {
   "cell_type": "markdown",
   "metadata": {},
   "source": [
    "### Configuration du conteneur ###"
   ]
  },
  {
   "cell_type": "code",
   "execution_count": null,
   "metadata": {},
   "outputs": [],
   "source": [
    "%%bash\n",
    "IP_HOST=\"192.168.1.40\"\n",
    "echo \"export DOCKER_HOST=tcp://$IP_HOST:2375\" >> ~/.bashrc && source ~/.bashrc \n",
    "docker ps"
   ]
  }
 ],
 "metadata": {
  "kernelspec": {
   "display_name": "Python 3",
   "language": "python",
   "name": "python3"
  },
  "language_info": {
   "codemirror_mode": {
    "name": "ipython",
    "version": 3
   },
   "file_extension": ".py",
   "mimetype": "text/x-python",
   "name": "python",
   "nbconvert_exporter": "python",
   "pygments_lexer": "ipython3",
   "version": "3.6.8"
  }
 },
 "nbformat": 4,
 "nbformat_minor": 2
}
