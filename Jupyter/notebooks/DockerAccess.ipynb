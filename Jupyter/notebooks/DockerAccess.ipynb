{
 "cells": [
  {
   "cell_type": "markdown",
   "metadata": {},
   "source": [
    "# Contrôler Docker depuis un container (Jupyter) #"
   ]
  },
  {
   "cell_type": "markdown",
   "metadata": {},
   "source": [
    "## Installation de docker dans le container ##"
   ]
  },
  {
   "cell_type": "markdown",
   "metadata": {},
   "source": [
    "### Installer docker depuis ce notebook ###\n",
    "\n",
    "Si le conteneur a été démarré avec la variable d'environnement `GRANT_SUDO=yes`:"
   ]
  },
  {
   "cell_type": "code",
   "execution_count": null,
   "metadata": {},
   "outputs": [],
   "source": [
    "%%bash\n",
    "curl -fsSL https://get.docker.com |sudo sh -\n",
    "sudo usermod -aG docker jovyan"
   ]
  },
  {
   "cell_type": "markdown",
   "metadata": {},
   "source": [
    "NOTE: Ici, `jovyan` est l'utilisateur par défaut, de l'image officielle Jupyter."
   ]
  },
  {
   "cell_type": "markdown",
   "metadata": {},
   "source": [
    "### Installer docker despuis l'hôte ###\n",
    "Si le conteneur n'a pas été démarré avec la variable d'environnement `GRANT_SUDO=yes`,\n",
    "il faut se connecter en `root` au conteneur, pour installer docker.\n",
    "\n",
    "Depuis l'hôte :\n",
    "```\n",
    "docker exec -it -u 0 jupyter bash\n",
    "curl -fsSL https://get.docker.com |sh -\n",
    "usermod -aG docker jovyan\n",
    "```"
   ]
  },
  {
   "cell_type": "markdown",
   "metadata": {},
   "source": [
    "## Connection au docker de l'hôte ##"
   ]
  },
  {
   "cell_type": "markdown",
   "metadata": {},
   "source": [
    "### Sous Linux : via les volumes ###"
   ]
  },
  {
   "cell_type": "markdown",
   "metadata": {},
   "source": [
    "Il faut monter le socket docker de l'hôte dans le conteneur.\n",
    "Pour cela utiliser le jupyter-linux.yml au lieu du jupyter.yml.\n",
    "\n",
    "Le fichier contient lesa lignes suivantes :\n",
    "```\n",
    "...\n",
    "  volumes:\n",
    "    - /var/run/docker.sock:/var/run/docker.sock\n",
    "...\n",
    "```"
   ]
  },
  {
   "cell_type": "markdown",
   "metadata": {},
   "source": [
    "### Sous Windows ou MacOS : via TCP ###"
   ]
  },
  {
   "cell_type": "markdown",
   "metadata": {},
   "source": [
    "#### Configuration de l'hôte ####\n",
    "Aller dans *Setting > General* et cocher *Expose daemon on tcp:...*        "
   ]
  },
  {
   "cell_type": "markdown",
   "metadata": {},
   "source": [
    "#### Configuration du conteneur ####"
   ]
  },
  {
   "cell_type": "markdown",
   "metadata": {},
   "source": [
    "##### Accès depuis le noteook #####"
   ]
  },
  {
   "cell_type": "markdown",
   "metadata": {},
   "source": [
    "Exécuter la ligne suivante pour dans chaque notebook où l'on accède à docker :"
   ]
  },
  {
   "cell_type": "code",
   "execution_count": null,
   "metadata": {},
   "outputs": [],
   "source": [
    "%env DOCKER_HOST=tcp://host.docker.internal:2375"
   ]
  },
  {
   "cell_type": "markdown",
   "metadata": {},
   "source": [
    "##### Accès depuis un terminal #####"
   ]
  },
  {
   "cell_type": "code",
   "execution_count": null,
   "metadata": {},
   "outputs": [],
   "source": [
    "%%bash\n",
    "IP_HOST=\"host.docker.internal\"\n",
    "echo \"export DOCKER_HOST=\\\"tcp://host.docker.internal:2375\\\"\" >> ~/.bashrc && source ~/.bashrc\n",
    "echo '{\"hosts\": [\"tcp://host.docker.internal:2375\"]}' > /etc/docker/daemon.json\n",
    "sed -i 's/fd:\\/\\//tcp:\\/\\/host.docker.internal:2375/g' /lib/systemd/system/docker.service\n",
    "docker ps"
   ]
  },
  {
   "cell_type": "code",
   "execution_count": null,
   "metadata": {},
   "outputs": [],
   "source": [
    "! docker ps"
   ]
  }
 ],
 "metadata": {
  "kernelspec": {
   "display_name": "Python 3",
   "language": "python",
   "name": "python3"
  },
  "language_info": {
   "codemirror_mode": {
    "name": "ipython",
    "version": 3
   },
   "file_extension": ".py",
   "mimetype": "text/x-python",
   "name": "python",
   "nbconvert_exporter": "python",
   "pygments_lexer": "ipython3",
   "version": "3.6.8"
  }
 },
 "nbformat": 4,
 "nbformat_minor": 2
}
