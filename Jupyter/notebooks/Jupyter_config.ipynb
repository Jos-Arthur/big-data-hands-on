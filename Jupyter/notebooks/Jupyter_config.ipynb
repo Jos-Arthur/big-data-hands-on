{
 "cells": [
  {
   "cell_type": "markdown",
   "metadata": {},
   "source": [
    "# ℂ𝕠𝕟𝕗𝕚𝕘𝕦𝕣𝕒𝕥𝕚𝕠𝕟 𝕕𝕖 𝕁𝕦𝕡𝕪𝕥𝕖𝕣𝕃𝕒𝕓 #"
   ]
  },
  {
   "cell_type": "markdown",
   "metadata": {},
   "source": [
    "## Kernels ##"
   ]
  },
  {
   "cell_type": "markdown",
   "metadata": {},
   "source": [
    "Jupyter permet l'exécution de code dans plusieurs langages grâce à l'ajout de kernels.\n",
    "On trouve une liste des environnements d'exécution disponibles sur le [wiki du projet Jupyter](https://github.com/jupyter/jupyter/wiki/Jupyter-kernels).\n",
    "\n",
    "Voici 3 exemples de kernels"
   ]
  },
  {
   "cell_type": "markdown",
   "metadata": {},
   "source": [
    "- [BeakerX](http://beakerx.com/) (*Groovy, Scala, Clojure, Kotlin, Java, and SQL, including many magics*) \n",
    "  \n",
    "  (FIXME: le processus d'installation ci-dessous ne fonctionne pas)"
   ]
  },
  {
   "cell_type": "code",
   "execution_count": null,
   "metadata": {},
   "outputs": [],
   "source": [
    "%%bash\n",
    "conda create -y -n labx 'python>=3'\n",
    "source activate labx\n",
    "conda config --env --add pinned_packages 'openjdk>8.0.121'\n",
    "conda install -y -c conda-forge jupyterlab beakerx\n",
    "jupyter labextension install @jupyter-widgets/jupyterlab-manager\n",
    "jupyter labextension install beakerx-jupyterlab"
   ]
  },
  {
   "cell_type": "markdown",
   "metadata": {},
   "source": [
    "- [Jupyter-PHP](https://litipk.github.io/Jupyter-PHP-Installer/)\n",
    "\n",
    "  (Non testé) requiert :\n",
    "    - PHP >= 7.0\n",
    "    - PHP-ZMQ extension"
   ]
  },
  {
   "cell_type": "code",
   "execution_count": null,
   "metadata": {},
   "outputs": [],
   "source": [
    "%%bash\n",
    "curl -O https://litipk.github.io/Jupyter-PHP-Installer/dist/jupyter-php-installer.phar\n",
    "./jupyter-php-installer.phar install"
   ]
  },
  {
   "cell_type": "markdown",
   "metadata": {},
   "source": [
    "- [IJavascript](https://github.com/n-riesco/ijavascript) (*Node.js*)"
   ]
  },
  {
   "cell_type": "code",
   "execution_count": null,
   "metadata": {},
   "outputs": [],
   "source": [
    "%%bash\n",
    "npm install -g ijavascript\n",
    "ijsinstall"
   ]
  },
  {
   "cell_type": "markdown",
   "metadata": {},
   "source": [
    "## Extensions ##"
   ]
  },
  {
   "cell_type": "markdown",
   "metadata": {},
   "source": [
    "Extensions à installer :\n",
    "- jupyterlab-vim\n",
    "- jupyterlab-git\n",
    "- jupyterlab_graphviz (à tester)\n",
    "- jupyterlab-drawio (à tester)\n",
    "- jupyterlab_template (à tester)"
   ]
  },
  {
   "cell_type": "code",
   "execution_count": null,
   "metadata": {},
   "outputs": [],
   "source": [
    "%%bash\n",
    "jupyter labextension install \\\n",
    " jupyterlab_vim \\\n",
    " @jupyterlab/git \\\n",
    " @deathbeds/jupyterlab_graphviz \\\n",
    " jupyterlab-drawio \\\n",
    " jupyterlab_templates"
   ]
  },
  {
   "cell_type": "markdown",
   "metadata": {},
   "source": [
    "Ou avec le gestionnaire d'extension :\n",
    "\n",
    "Setting > Advanced Setting Editor > Extension Manager\n",
    "```\n",
    "{\"enabled\": true}\n",
    "```"
   ]
  },
  {
   "cell_type": "markdown",
   "metadata": {},
   "source": [
    "### Configuration des extensions ###"
   ]
  },
  {
   "cell_type": "markdown",
   "metadata": {},
   "source": [
    "#### Configuration minimum de git"
   ]
  },
  {
   "cell_type": "code",
   "execution_count": null,
   "metadata": {},
   "outputs": [],
   "source": [
    "%%bash\n",
    "git config --global user.name \"Maxime TINEL\"\n",
    "git config --global user.email mtinel@users.noreply.github.com"
   ]
  },
  {
   "cell_type": "markdown",
   "metadata": {},
   "source": [
    "#### jupyterlab_template"
   ]
  },
  {
   "cell_type": "code",
   "execution_count": null,
   "metadata": {},
   "outputs": [],
   "source": [
    "! echo \"c.JupyterLabTemplates.template_dirs = ['/home/jovyans/notebooks/template']\" >> ~/.jupyter/jupyter_notebook_config.py"
   ]
  },
  {
   "cell_type": "markdown",
   "metadata": {},
   "source": [
    "## Vim ##\n",
    "\n",
    "- Setting > Text Editor Key Map > vim\n",
    "\n",
    "\n",
    "TIP: Utilisation des commandes vim dans un notebook : [jupyterlab-vim](https://github.com/jwkvam/jupyterlab-vim)"
   ]
  },
  {
   "cell_type": "markdown",
   "metadata": {},
   "source": [
    "## Theme ##\n",
    "\n",
    "- Setting > JupyterLab Theme > JupyterLab Dark\n",
    "- Setting > Text Editor Theme > material"
   ]
  },
  {
   "cell_type": "markdown",
   "metadata": {},
   "source": [
    "## Modification du mot de passe par défaut de Jupyter"
   ]
  },
  {
   "cell_type": "code",
   "execution_count": null,
   "metadata": {},
   "outputs": [],
   "source": [
    "from notebook.auth import passwd\n",
    "pwd = passwd()\n",
    "print(\"\\n\\nÉditer le .env et définir la variable:\\n\\nJUPYTER_PASSWORD=\"+ pwd)\n",
    "with open(\"../docker/.env\", \"a\") as env:\n",
    "        env.write(\"\\nJUPYTER_PASSWORD=\"+ pwd)"
   ]
  },
  {
   "cell_type": "markdown",
   "metadata": {},
   "source": [
    "## TIPS"
   ]
  },
  {
   "cell_type": "markdown",
   "metadata": {},
   "source": [
    "### Créer des slideshow avec reveal.js\n",
    "\n",
    "- sélectionner _Cell Inspector_ dans la barre de gauche\n",
    "- sélectionner le type de slide pour chaque cellule\n",
    "puis :"
   ]
  },
  {
   "cell_type": "markdown",
   "metadata": {},
   "source": [
    "! jupyter nbconvert foo.ipynb --to slides --post serve"
   ]
  }
 ],
 "metadata": {
  "kernelspec": {
   "display_name": "Python 3",
   "language": "python",
   "name": "python3"
  },
  "language_info": {
   "codemirror_mode": {
    "name": "ipython",
    "version": 3
   },
   "file_extension": ".py",
   "mimetype": "text/x-python",
   "name": "python",
   "nbconvert_exporter": "python",
   "pygments_lexer": "ipython3",
   "version": "3.6.8"
  }
 },
 "nbformat": 4,
 "nbformat_minor": 2
}
