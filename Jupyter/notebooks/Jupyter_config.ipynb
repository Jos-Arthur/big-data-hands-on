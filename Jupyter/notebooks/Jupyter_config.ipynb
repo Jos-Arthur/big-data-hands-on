{
 "cells": [
  {
   "cell_type": "markdown",
   "metadata": {},
   "source": [
    "# ℂ𝕠𝕟𝕗𝕚𝕘𝕦𝕣𝕒𝕥𝕚𝕠𝕟 𝕕𝕖 𝕁𝕦𝕡𝕪𝕥𝕖𝕣𝕃𝕒𝕓 #"
   ]
  },
  {
   "cell_type": "markdown",
   "metadata": {},
   "source": [
    "## Extensions ##\n",
    "\n",
    "Activer le gestionnaire d'extension :\n",
    "\n",
    "Setting > Advanced Setting Editor > Extension Manager\n",
    "```\n",
    "{\"enabled\": true}\n",
    "```"
   ]
  },
  {
   "cell_type": "markdown",
   "metadata": {},
   "source": [
    "Extensions à installer :\n",
    "- jupyterlab-vim\n",
    "- jupyterlab-git\n",
    "- jupyterlab_graphviz (à tester)\n",
    "- jupyterlab-drawio (à tester)\n",
    "- jupyterlab_template (à tester)"
   ]
  },
  {
   "cell_type": "markdown",
   "metadata": {},
   "source": [
    "### Configuration des extensions ###"
   ]
  },
  {
   "cell_type": "markdown",
   "metadata": {},
   "source": [
    "#### Configuration minimum de git"
   ]
  },
  {
   "cell_type": "code",
   "execution_count": null,
   "metadata": {},
   "outputs": [],
   "source": [
    "%%bash\n",
    "git config --global user.name \"Maxime TINEL\"\n",
    "git config --global user.email mtinel@users.noreply.github.com"
   ]
  },
  {
   "cell_type": "markdown",
   "metadata": {},
   "source": [
    "#### jupyterlab_template"
   ]
  },
  {
   "cell_type": "code",
   "execution_count": null,
   "metadata": {},
   "outputs": [],
   "source": [
    "! echo \"c.JupyterLabTemplates.template_dirs = ['/home/jovyans/notebooks/template']\" >> ~/.jupyter/jupyter_notebook_config.py"
   ]
  },
  {
   "cell_type": "markdown",
   "metadata": {},
   "source": [
    "## Vim ##\n",
    "\n",
    "- Setting > Text Editor Key Map > vim\n",
    "\n",
    "\n",
    "TIP: Utilisation des commandes vim dans un notebook : [jupyterlab-vim](https://github.com/jwkvam/jupyterlab-vim)"
   ]
  },
  {
   "cell_type": "markdown",
   "metadata": {},
   "source": [
    "## Theme ##\n",
    "\n",
    "- Setting > JupyterLab Theme > JupyterLab Dark\n",
    "- Setting > Text Editor Theme > material"
   ]
  },
  {
   "cell_type": "markdown",
   "metadata": {},
   "source": [
    "## Modification du mot de passe par défaut de Jupyter"
   ]
  },
  {
   "cell_type": "code",
   "execution_count": null,
   "metadata": {},
   "outputs": [],
   "source": [
    "from notebook.auth import passwd\n",
    "passwd()"
   ]
  },
  {
   "cell_type": "markdown",
   "metadata": {},
   "source": [
    "Éditer le `.env` et définir la variable `JUPYTER_PASSWORD` avec le *sha1* généré"
   ]
  }
 ],
 "metadata": {
  "kernelspec": {
   "display_name": "Python 3",
   "language": "python",
   "name": "python3"
  },
  "language_info": {
   "codemirror_mode": {
    "name": "ipython",
    "version": 3
   },
   "file_extension": ".py",
   "mimetype": "text/x-python",
   "name": "python",
   "nbconvert_exporter": "python",
   "pygments_lexer": "ipython3",
   "version": "3.6.7"
  }
 },
 "nbformat": 4,
 "nbformat_minor": 2
}
